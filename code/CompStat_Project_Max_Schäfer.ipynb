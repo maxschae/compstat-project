{
 "cells": [
  {
   "cell_type": "markdown",
   "metadata": {},
   "source": [
    "## Variable Selection and Potential Omitted Variable Bias with LASSO\n",
    "#### Term Paper Computational Statistics\n",
    "\n",
    "<br>\n",
    "\n",
    "*Instructor*: JProf. Dr. Lena Janys\n",
    "\n",
    "*Author*: Max Schäfer\n",
    "\n",
    "*Program*: M.Sc. Economics, University of Bonn (Summer Term 2020)\n",
    "\n",
    "\n",
    "\n",
    "\n",
    "<br>\n",
    "<hr />\n",
    "\n",
    "### Reference Section\n",
    "\n",
    "\n",
    "[**1.** Introduction](#introduction)\n",
    "    \n",
    "[**2.** OLS and the LASSO](#section-ii)\n",
    "\n",
    "[**3.** Data Generating Process and Identification Problem](#section-iii)\n",
    "\n",
    "[**4.** Simulation Study](#section-iv)\n",
    "\n",
    "[**5.** Concluding Remarks](#conclusion)\n",
    "\n",
    "[References](#references)\n",
    "\n",
    "[Appendix](#appendix)\n",
    "\n",
    "<hr />\n",
    "<br>\n",
    "\n",
    "\n",
    "Please feel free to ask any question, or to comment on the work."
   ]
  },
  {
   "cell_type": "markdown",
   "metadata": {},
   "source": [
    "<a id='introduction'></a>\n",
    "## 1. Introduction"
   ]
  },
  {
   "cell_type": "markdown",
   "metadata": {},
   "source": [
    "#### Machine Learning and Causal Inference\n",
    "Identifying causal relationships is the pronounced goal of many empirical researchers and the toolkit to approach causal questions has grown in recent years (Athey and Imbens, 2017). Econometrics as the go-to field for empirical economists is increasingly in exchange with and will continue to be influenced by the machine learning (ML) literature (Athey, 2018, BOOK). The integration of ML algorithms into applied economic research is, among other factors, driven by the availability of high-dimensional datasets $-$ here, *high-dimensional* refers to datasets with many variables, possibly more variables than observations. This poses new possbilities of analysis, but also traditional workflows may become tedious or infeasible. ML features a palette of methods to deal with high-dimensional data. However, off-the-shelve ML methods are primarily used for prediction problems, and their usage does not free the researcher from making assumptions and performing a strategy when the goal is to identify causal relationships (Athey, 2018, BOOK).\n",
    "\n",
    "At the intersection of ML and causal inference, a variety of interesting approaches emerge, with an overview in Athey (2018, BOOK) and Athey and Imbens (2017). One of them is so-called *post-double-selection* method by Belloni et al. (2014) where in a potentially high-dimensional setting the researcher seeks to identify a causal effect under the assumption of unconfoundedness (TODO. give some literature). With observational data to obtain the unbiased treatment effect estimate this assumption requires that all variables explaining both the outcome and the variable of interest, say a treatment, are included in the model $-$ given they are observable. However, in higher dimensions with a rationale to omit variables from the final model, variable selection methods may drop variables based on their weak association with the outcome, albeit they are highly predictive of the treatment, and therewith introducing *omitted variable bias* (OVB). To overcome this issue, the interest of variable selection lies primarily on including all confounding factors whose omission leads to a biased treatment effect estimate, and Belloni et al. (2014) propose to regress both the outcome and the treatment onto all potential covariates using the *least absolute shrinkage and selection operator* (LASSO) which features variable selection based on coefficient size. The union of selected variables from both regressions form the set of covariates in the final model, which is then less prone to be affected by OVB compared to an approach when variable selection is performed on all variables in a single step. In this term paper, I want to study the variable selection property of LASSO with respect to prediction (TODO: name metrics evaluted) in general, and the double-selection method by Belloni et al. (2014) in environments where all data to achieve unconfoundedness is collected, the true model is sparse and where OVB can potentially arise if variable selection is required."
   ]
  },
  {
   "cell_type": "markdown",
   "metadata": {},
   "source": [
    "#### House Prices and Public Policy\n",
    "Housing is a critical aspect of human life and varies greatly across countries (for a visual portrayal, see the [Dollar Street](https://www.gapminder.org/dollar-street/?topic=front-doors)) and also at a much finer level across neighborhoods. Policies that aim to improve living standards in neighborhoods may be evaluated through house prices. That is, a policy effect identified can often be $-$ in the fashion of local revealed preferences $-$ interpreted as the willingness-to-pay for the policy to take place, especially if the policy's outcome is difficult to value (Gibbons, 2015). For instance, valuation of a recreational park in the city center is not straight-forward since there is no market transaction with an observable price. For further examples and an overview of studies that use house prices to infer willingness-to-pay, e.g. for public transport or school quality, see Gibbons and Machin (2008). Also, externalities such as the visiual impairment from wind turbines can be measured through house prices, as is done in Gibbons (2015) and Frondel et al. (2019a). \n",
    "\n",
    "This strand of literature using house prices to infer willingness-to-pay for a policy inspires the setup and data-generating process. Typically, houses as the unit of observation can be described by many features ranging from physical attributes to geographical and socioeconomic aspects of the neighborhood. When the true model explaining house prices is sparse but confounding factors among the entire set of variables exist, it is not at all clear which variables to include in the final model. This empirical challenge then motivates the use of a variable selection procedure which is not agnostic about the underlying data-generating process and the identification problem, which are introduced in detail in [section 3](#section-iii). In this term paper, I choose to investigate the double-selection method by Belloni et al. (2014) which essentially uses two LASSO models to select variables for the final model by regressing the outcome and the treatment separately on all available variables. This procedure aims to identify potential confounders and thus reducing the risk of OVB. [Section 2](#section-iv) contains theoretical notes on the methods OLS and LASSO."
   ]
  },
  {
   "cell_type": "markdown",
   "metadata": {},
   "source": [
    "Good:\n",
    "* \n",
    "* \n",
    "\n",
    "Bad:\n",
    "* \n",
    "* \n",
    "\n",
    "Missing:\n",
    "* In the potential outcome framework introduced by Rubin (TODO: literature!!), a causal effect can be identified <- sentence in 1. or 2.?\n",
    "* name metrics which will be evaluated...\n",
    "* more background on standard ML procedures like test train validate split, cross-validation etc.?\n"
   ]
  },
  {
   "cell_type": "markdown",
   "metadata": {},
   "source": [
    "<a id='section-ii'></a>\n",
    "## 2. OLS and the LASSO"
   ]
  },
  {
   "cell_type": "markdown",
   "metadata": {},
   "source": [
    "What to look at\n",
    "\n",
    "* OLS for final estimation\n",
    "* Variable selection without prior knowledge (and focus on prediction), purely data-driven: LASSO\n",
    "* Variable selection without prior knowledge (and focus on OVB, unconfoundedness), purely data-driven: double-selection with LASSO\n",
    "* Variable selection with prior knowledge: adaptive LASSO, IPF-LASSO, Group-LASSO etc."
   ]
  },
  {
   "cell_type": "markdown",
   "metadata": {},
   "source": []
  },
  {
   "cell_type": "markdown",
   "metadata": {},
   "source": []
  },
  {
   "cell_type": "markdown",
   "metadata": {},
   "source": [
    "Good:\n",
    "* \n",
    "* \n",
    "\n",
    "Bad:\n",
    "* \n",
    "* \n",
    "\n",
    "Missing:\n",
    "* \n",
    "* "
   ]
  },
  {
   "cell_type": "markdown",
   "metadata": {},
   "source": [
    "<a id='section-iii'></a>\n",
    "## 3. Data Generating Process and Identification Problem"
   ]
  },
  {
   "cell_type": "markdown",
   "metadata": {},
   "source": [
    "Questions to ask:\n",
    "* is true model sparse or not?\n",
    "* degree of correlation?\n",
    "* how many Xs do we have? are we in high dimensions or not?\n",
    "\n",
    "* write function with arguments: n, p, size of coeffs, varianec of coeffs, with interdependence w.r.t. to treatment (correlation of some Xs with D)\n",
    "* two cases (or smooth): with OVB / without OVB, or smooth: degree of OVB, perhaps, as measured with share of Xs correlated with both D and Y\n",
    "\n",
    "* draw a directed-acyclical graph DAG to illustrate both DGP and identification problem"
   ]
  },
  {
   "cell_type": "markdown",
   "metadata": {},
   "source": [
    "#### Current notes on dgp\n",
    "\n",
    "TODO how is this to interpret? the geographical features of the HOUSES's\n",
    ". neighborhood / geographical cell determine whether a wind turbine is\n",
    ".  constructed, one of this predictors is surely the density of houses\n"
   ]
  },
  {
   "cell_type": "code",
   "execution_count": null,
   "metadata": {},
   "outputs": [],
   "source": []
  },
  {
   "cell_type": "markdown",
   "metadata": {},
   "source": [
    "I assume that all data to achieve unconfoundedness is collected, the true model explaining house prices is sparse relative to the available data, and confounding factors exist that influence both the policy treatment and the outcome. "
   ]
  },
  {
   "cell_type": "markdown",
   "metadata": {},
   "source": [
    "Typically, houses as observational units can be described by many variables due to their nature of comprising many objects with many facettes, and one can think of a lot of observed variables ranging from number of different type of rooms, furnishing and geographical and socioeconomic features of the neighborhood. Which features are important to predict house prices is a crucial question, and even more so in settings with a lot of available features, to perform predictions for houses not in the original sample. In light of the well-known bias-variance trade-off in prediction problems, it might be optimal (in terms of an accuracy metric such as the test mean-squared error (MSE)) to exclude certain variables from the model when predicting housing prices since the increase in bias is (over-)compensated by the decrease in variance. In a setting where prediction (and a minimal MSE) is the goal; we are fine. But if interested in the causal effect of a policy, there is trouble if the excluded variable is a confounding factor, leading to a biased treatment effect estimate since unconfoundedness is violated. This is an unpleasant scenario given all confounders are contained in the dataset $-$ which I assume in this theoretical setting $-$ but we fail to include them. \n",
    "\n",
    "-> solution : double-selection. "
   ]
  },
  {
   "cell_type": "markdown",
   "metadata": {},
   "source": [
    "\n",
    "In fact, to evaluate predictions of a (ML) model, the test mean-squared error (MSE) is a conventional metric which is computed for a test dataset $-$ in ML the standard procedure is to split the original sample into test and training (and validation) datasets, and thus, to train and test models on different data, see e.g. James et al. (2013). The MSE consists of a bias and a variance part which are traded-off in model training. As a result, models built with an algorithm to minimize the MSE may exihibit bias to drive down the variance of predicted values. An effective way to reduce variance (in linear models) is to deploy *regularization* methods, such as Ridge regression or LASSO, that shrink the estimated coefficients towards zero, which reduces the range that predicted values take on for a given observation (James et al., 2013). Due to the L1-penalty, the aforementioned LASSO can shrink coefficients all the way to zero, which in fact, makes LASSO a variable selection method. "
   ]
  },
  {
   "cell_type": "markdown",
   "metadata": {},
   "source": []
  },
  {
   "cell_type": "markdown",
   "metadata": {},
   "source": []
  },
  {
   "cell_type": "code",
   "execution_count": null,
   "metadata": {},
   "outputs": [],
   "source": []
  },
  {
   "cell_type": "markdown",
   "metadata": {},
   "source": [
    "Good:\n",
    "* \n",
    "* \n",
    "\n",
    "Bad:\n",
    "* \n",
    "* \n",
    "\n",
    "Missing:\n",
    "* \n",
    "* "
   ]
  },
  {
   "cell_type": "markdown",
   "metadata": {},
   "source": [
    "<a id='section-iv'></a>\n",
    "## 4. Simulation Study"
   ]
  },
  {
   "cell_type": "markdown",
   "metadata": {},
   "source": [
    "What is important?\n",
    "\n",
    "* What is metric of interest? MSE, Bias, Biased estimate of effect of interest ... (prediction vs. identification of causal effect)\n",
    "* MSE decomposition -- show how bias and variance is traded-off against each other and how the reduction in variance can increase precision in terms of MSE. (what about coeff estimates?)\n",
    "* Formulate clear expectations what I expect happens to these metrics when varying a, b, c and give clear intuition\n",
    "* Comment on whether expectations where met. Why? And why not?\n",
    "\n",
    "Perhaps, do sim study in two parts. One with OVB and one without, to highlight Lasso, adaptive lasso and double selection in principle?\n",
    "\n",
    "(Double selection probably higher variance and smaller bias since it picks more variables compared to one-way-lasso? in the absence of OVB).\n",
    "Same with OVB, but: here it is good since it probably reduced OVB."
   ]
  },
  {
   "cell_type": "code",
   "execution_count": null,
   "metadata": {},
   "outputs": [],
   "source": []
  },
  {
   "cell_type": "code",
   "execution_count": null,
   "metadata": {},
   "outputs": [],
   "source": []
  },
  {
   "cell_type": "code",
   "execution_count": null,
   "metadata": {},
   "outputs": [],
   "source": []
  },
  {
   "cell_type": "markdown",
   "metadata": {},
   "source": [
    "Good:\n",
    "* \n",
    "* \n",
    "\n",
    "Bad:\n",
    "* \n",
    "* \n",
    "\n",
    "Missing:\n",
    "* \n",
    "* "
   ]
  },
  {
   "cell_type": "markdown",
   "metadata": {},
   "source": [
    "<a id='conclusion'></a>\n",
    "\n",
    "## 5. Concluding Remarks"
   ]
  },
  {
   "cell_type": "markdown",
   "metadata": {},
   "source": []
  },
  {
   "cell_type": "markdown",
   "metadata": {},
   "source": []
  },
  {
   "cell_type": "markdown",
   "metadata": {},
   "source": []
  },
  {
   "cell_type": "markdown",
   "metadata": {},
   "source": [
    "Good:\n",
    "* \n",
    "* \n",
    "\n",
    "Bad:\n",
    "* \n",
    "* \n",
    "\n",
    "Missing:\n",
    "* \n",
    "* "
   ]
  },
  {
   "cell_type": "markdown",
   "metadata": {},
   "source": [
    "<a id='references'></a>\n",
    "### References"
   ]
  },
  {
   "cell_type": "markdown",
   "metadata": {},
   "source": [
    "Athey, Susan, and Guido W. Imbens. 2017. \"The State of Applied Econometrics: Causality and Policy Evaluation.\" Journal of Economic Perspectives, 31 (2): 3-32.\n",
    "\n"
   ]
  },
  {
   "cell_type": "markdown",
   "metadata": {},
   "source": [
    "Alexandre Belloni, Victor Chernozhukov, Christian Hansen, Inference on Treatment Effects after Selection among High-Dimensional Controls, The Review of Economic Studies, Volume 81, Issue 2, April 2014, Pages 608–650"
   ]
  },
  {
   "cell_type": "markdown",
   "metadata": {},
   "source": [
    "Gareth James, Daniela Witten, Trevor Hastie, Robert Tibshirani. An Introduction to Statistical Learning: with Applications in R. New York :Springer, 2013."
   ]
  },
  {
   "cell_type": "markdown",
   "metadata": {},
   "source": [
    "Thomas K. Bauer, Sebastian T. Braun, Michael Kvasnicka, Nuclear power plant closures and local housing values: Evidence from Fukushima and the German housing market, Journal of Urban Economics, Volume 99, 2017, Pages 94-106"
   ]
  },
  {
   "cell_type": "markdown",
   "metadata": {},
   "source": [
    "Stephen Gibbons, Gone with the wind: Valuing the visual impacts of wind turbines through house prices, Journal of Environmental Economics and Management, Volume 72, 2015, Pages 177-196"
   ]
  },
  {
   "cell_type": "markdown",
   "metadata": {},
   "source": [
    "Frondel, M., G. Kussel, S. Sommer, and C. Vance. 2019a. “Local Cost for Global Benefit: The Case of Wind Turbines.” Ruhr Economic Papers 791"
   ]
  },
  {
   "cell_type": "markdown",
   "metadata": {},
   "source": [
    "Stephen Gibbons, Stephen Machin, Valuing school quality, better transport, and lower crime: evidence from house prices, Oxford Review of Economic Policy, Volume 24, Issue 1, spring 2008, Pages 99–119"
   ]
  },
  {
   "cell_type": "markdown",
   "metadata": {},
   "source": []
  },
  {
   "cell_type": "markdown",
   "metadata": {},
   "source": [
    "<a id='appendix'></a>\n",
    "### Appendix"
   ]
  },
  {
   "cell_type": "markdown",
   "metadata": {},
   "source": []
  },
  {
   "cell_type": "markdown",
   "metadata": {},
   "source": []
  },
  {
   "cell_type": "markdown",
   "metadata": {},
   "source": []
  },
  {
   "cell_type": "markdown",
   "metadata": {},
   "source": []
  },
  {
   "cell_type": "markdown",
   "metadata": {},
   "source": []
  },
  {
   "cell_type": "markdown",
   "metadata": {},
   "source": [
    "Why not OLS?\n",
    "\n",
    "- When n only slightly bigger than p then variance in the OLS is high. OLS tends to overfit the data. Regularization can potentially improve the predicitions by lowering the variance at the expense of an increase in bias.\n",
    "\n",
    "- When not being sure about the exact model and one suspects that many predictors have no effect then OLS is unlikely to set the respective coefficients to zero. This makes interpretation hard and the model potentially overly complicated. Regularization can help by exactly setting some coefficients to zero."
   ]
  },
  {
   "cell_type": "code",
   "execution_count": 1,
   "metadata": {
    "scrolled": true
   },
   "outputs": [
    {
     "name": "stderr",
     "output_type": "stream",
     "text": [
      "Warning message:\n",
      "\"package 'glmnet' was built under R version 3.6.3\"Loading required package: Matrix\n",
      "Warning message:\n",
      "\"package 'Matrix' was built under R version 3.6.3\"Loaded glmnet 4.0\n",
      "Warning message:\n",
      "\"package 'mvtnorm' was built under R version 3.6.2\"Warning message:\n",
      "\"package 'ggplot2' was built under R version 3.6.3\"Warning message:\n",
      "\"package 'randomcoloR' was built under R version 3.6.3\""
     ]
    }
   ],
   "source": [
    "# Housekeeping\n",
    "set.seed(1234)\n",
    "\n",
    "# install.packages(\"glmnet\")\n",
    "library(\"glmnet\")\n",
    "library(\"mvtnorm\")\n",
    "\n",
    "library(\"ggplot2\")\n",
    "#install.packages(\"randomcoloR\")\n",
    "library(\"randomcoloR\")"
   ]
  },
  {
   "cell_type": "markdown",
   "metadata": {},
   "source": [
    "## Exercise 1\n",
    "\n",
    "_a) Run ridge regression and lasso for a grid of different penalty parameters $\\lambda$._\n",
    "\n",
    "\n",
    "**Data**\n",
    "\n",
    "Create a function that we will use repeatedly later on to generate data."
   ]
  },
  {
   "cell_type": "code",
   "execution_count": 2,
   "metadata": {},
   "outputs": [],
   "source": [
    "generate_data <- function(n=200, p=50, beta_vec=seq(.1, .5, le=p)) {\n",
    "  # Data-generating process\n",
    "  X <- rmvnorm(n=n, mean=rep(0, p), sigma=diag(sample(1:2, p, replace = T), nrow = p, ncol = p))  # Predictors\n",
    "  eps <- rnorm(n=n, mean=0, sd=1)   # Error term.\n",
    "  y <- X %*% beta_vec + eps   # Dependent variable\n",
    "\n",
    "  return(list(X=X, y=y))\n",
    "}"
   ]
  },
  {
   "cell_type": "markdown",
   "metadata": {},
   "source": [
    "**Setup**\n",
    "\n",
    "Create the grid of different $\\lambda$ and the training data set for subsection a)."
   ]
  },
  {
   "cell_type": "code",
   "execution_count": 3,
   "metadata": {},
   "outputs": [],
   "source": [
    "# create a descending grid as gmlnet internally turns that around\n",
    "lambda_grid <- seq(from=.5, to=0, by=-.001)\n",
    "\n",
    "n <- 5000  # Number of observations\n",
    "p <- 50   # Number of predictors\n",
    "beta_vec <- seq(.1, .5, le=p)   # True betas\n",
    "\n",
    "# Draw training data\n",
    "train_data <- generate_data(n=n, p=p, beta_vec=beta_vec)\n",
    "X_train <- train_data$X\n",
    "y_train <- train_data$y"
   ]
  },
  {
   "cell_type": "markdown",
   "metadata": {},
   "source": [
    "Run ridge regression and lasso over the defined `lambda_grid`."
   ]
  },
  {
   "cell_type": "code",
   "execution_count": 4,
   "metadata": {},
   "outputs": [],
   "source": [
    "# Ridge\n",
    "ridge <- glmnet(X_train, y_train, alpha=0, lambda=lambda_grid, intercept=FALSE)\n",
    "\n",
    "# Lasso\n",
    "lasso <- glmnet(X_train, y_train, alpha=1, lambda=lambda_grid, intercept=FALSE)"
   ]
  },
  {
   "cell_type": "markdown",
   "metadata": {},
   "source": [
    "**Ridge Regression Plots**"
   ]
  },
  {
   "cell_type": "markdown",
   "metadata": {},
   "source": [
    "We first collect the $\\hat\\beta_{RIDGE}$ for four different $\\lambda$ from the ridge regressions above."
   ]
  },
  {
   "cell_type": "code",
   "execution_count": 5,
   "metadata": {},
   "outputs": [
    {
     "data": {
      "text/html": [
       "<ol class=list-inline>\n",
       "\t<li>0.5</li>\n",
       "\t<li>0.376</li>\n",
       "\t<li>0.251</li>\n",
       "\t<li>0</li>\n",
       "</ol>\n"
      ],
      "text/latex": [
       "\\begin{enumerate*}\n",
       "\\item 0.5\n",
       "\\item 0.376\n",
       "\\item 0.251\n",
       "\\item 0\n",
       "\\end{enumerate*}\n"
      ],
      "text/markdown": [
       "1. 0.5\n",
       "2. 0.376\n",
       "3. 0.251\n",
       "4. 0\n",
       "\n",
       "\n"
      ],
      "text/plain": [
       "[1] 0.500 0.376 0.251 0.000"
      ]
     },
     "metadata": {},
     "output_type": "display_data"
    }
   ],
   "source": [
    "# Collect beta estimates for different penalties\n",
    "# .. from existing grid.\n",
    "lambdas <- lambda_grid[c(1,\n",
    "                         floor(length(lambda_grid)/4),\n",
    "                         floor(length(lambda_grid)/2),\n",
    "                         length(lambda_grid))]\n",
    "\n",
    "lambdas"
   ]
  },
  {
   "cell_type": "markdown",
   "metadata": {},
   "source": [
    "These are the selected $\\lambda$. $\\lambda = 0$ corresponds to the OLS estimate which we add as a reference case. "
   ]
  },
  {
   "cell_type": "markdown",
   "metadata": {},
   "source": [
    "Plot the fifty estimated $\\hat\\beta_{RIDGE}$ for each of the above $\\lambda$ in comparison to the true $\\beta$.  \n",
    "\n",
    "_Expectation:_ Each coefficient estimate is shrunken roughly by the **same proportion** (i.e. the bigger the true $\\beta$ the stronger the shrinkage performed by ridge as related to the simplified case from the lecture). We expect the shrinkage to increase with larger $\\lambda$."
   ]
  },
  {
   "cell_type": "code",
   "execution_count": 6,
   "metadata": {},
   "outputs": [
    {
     "data": {
      "image/png": "[encoded data removed]",
      "text/plain": [
       "plot without title"
      ]
     },
     "metadata": {},
     "output_type": "display_data"
    }
   ],
   "source": [
    "# Visualize all estimated coefficients for different values of penalty parameter\n",
    "beta_hats_ridge <- matrix(coef(ridge, s=lambdas)@x, nrow=dim(X_train)[2], ncol=length(lambdas))\n",
    "df <- data.frame(beta_hats_ridge)\n",
    "df[\"true_beta\"] <- beta_vec\n",
    "df[\"index\"] <- seq(1, dim(df)[1], 1)\n",
    "cols <- names(df)[1:(length(names(df))-2)]\n",
    "\n",
    "# Initialize plot\n",
    "plot <- ggplot(data=df, aes(x=index)) +\n",
    "        geom_line(aes(y=true_beta), linetype=\"dashed\", size=1, colour=\"darkgrey\") +\n",
    "        ylab(\"Ridge coefficients w/ diff. shrinkage\") +\n",
    "        xlab(\"Beta\")\n",
    "\n",
    "i <- 1\n",
    "for (name in cols) {\n",
    "  plot <- plot + geom_line(aes_string(y=name),\n",
    "                           size=1.2, colour=\"#000d96\", alpha=i/(i+2))\n",
    "  i <- i+1\n",
    "}\n",
    "\n",
    "plot"
   ]
  },
  {
   "cell_type": "markdown",
   "metadata": {},
   "source": [
    "Initialize a larger gird for $\\lambda$ (for visualization purposes) and rerun ridge regression. Extract the estimated $\\hat\\beta_{RIDGE}$."
   ]
  },
  {
   "cell_type": "code",
   "execution_count": 7,
   "metadata": {},
   "outputs": [],
   "source": [
    "# Fit and extract estimates from ridge model with large penalties.\n",
    "lambda_grid_l <- seq(0, 10, .1)\n",
    "ridge_l <- glmnet(X_train, y_train, alpha=0, lambda=lambda_grid_l, intercept=FALSE)\n",
    "beta_hats_ridge_l <- matrix(coef(ridge_l, s=lambda_grid_l)@x, nrow=dim(X_train)[2], ncol=length(lambda_grid_l))"
   ]
  },
  {
   "cell_type": "markdown",
   "metadata": {},
   "source": [
    "Plot all the fifty $\\hat\\beta_{RIDGE}$ on the grid of $\\lambda$.\n",
    "\n",
    "_Expectation:_ The shrinkage for higher true $\\beta$ is stronger as before (i.e. the curves are more steep for higher $\\beta$). We should observe the curves to get closer and closer to zero with increasing $\\lambda$."
   ]
  },
  {
   "cell_type": "code",
   "execution_count": 8,
   "metadata": {},
   "outputs": [
    {
     "data": {
      "image/png": "[encoded data removed]",
      "text/plain": [
       "plot without title"
      ]
     },
     "metadata": {},
     "output_type": "display_data"
    }
   ],
   "source": [
    "# Plot all ridge coefficients with increasing lambda\n",
    "df <- data.frame(cbind(t(beta_hats_ridge_l), lambda_grid_l))\n",
    "cols <- names(df)[1:(length(names(df))-1)]\n",
    "\n",
    "# Initialize plot.\n",
    "plot <- ggplot(data=df, aes(x=lambda_grid_l)) +\n",
    "        geom_line(aes(y=0), lty=\"dashed\") +\n",
    "        ylab(\"All Ridge coefficients w/ diff. shrinkage\") +\n",
    "        xlab(\"Lambda\")\n",
    "\n",
    "# Loop through each beta and plot its value with increasing ridge penalty.\n",
    "for (name in cols) {\n",
    "  plot <- plot +\n",
    "          geom_line(aes_string(y=name), size=1, col=randomColor(count=1, luminosity=\"light\"))\n",
    "}\n",
    "\n",
    "plot"
   ]
  },
  {
   "cell_type": "markdown",
   "metadata": {},
   "source": [
    "**Lasso Plots**"
   ]
  },
  {
   "cell_type": "markdown",
   "metadata": {},
   "source": [
    "We take the four $\\lambda$ from before again."
   ]
  },
  {
   "cell_type": "code",
   "execution_count": 9,
   "metadata": {},
   "outputs": [
    {
     "data": {
      "text/html": [
       "<ol class=list-inline>\n",
       "\t<li>0.5</li>\n",
       "\t<li>0.376</li>\n",
       "\t<li>0.251</li>\n",
       "\t<li>0</li>\n",
       "</ol>\n"
      ],
      "text/latex": [
       "\\begin{enumerate*}\n",
       "\\item 0.5\n",
       "\\item 0.376\n",
       "\\item 0.251\n",
       "\\item 0\n",
       "\\end{enumerate*}\n"
      ],
      "text/markdown": [
       "1. 0.5\n",
       "2. 0.376\n",
       "3. 0.251\n",
       "4. 0\n",
       "\n",
       "\n"
      ],
      "text/plain": [
       "[1] 0.500 0.376 0.251 0.000"
      ]
     },
     "metadata": {},
     "output_type": "display_data"
    }
   ],
   "source": [
    "# Collect beta estimates for different penalties\n",
    "# .. from existing grid.\n",
    "lambdas <- lambda_grid[c(1,\n",
    "                         floor(length(lambda_grid)/4),\n",
    "                         floor(length(lambda_grid)/2),\n",
    "                         length(lambda_grid))]\n",
    "lambdas"
   ]
  },
  {
   "cell_type": "markdown",
   "metadata": {},
   "source": [
    "Plot the fifty estimated $\\hat\\beta_{LASSO}$ for each $\\lambda$ in comparison to the true $\\beta$.  \n",
    "\n",
    "_Expectation:_ Depending on $\\lambda$ we expect Lasso to set the coefficients to excatly zero when the true $\\beta$ is roughly below a certain threshold. Above the threshold we expect Lasso to shrink the coefficents by a roughly **constant term** according to the size of $\\lambda$."
   ]
  },
  {
   "cell_type": "code",
   "execution_count": 10,
   "metadata": {},
   "outputs": [
    {
     "data": {
      "image/png": "[encoded data removed]",
      "text/plain": [
       "plot without title"
      ]
     },
     "metadata": {},
     "output_type": "display_data"
    }
   ],
   "source": [
    "# Visualize all estimated coefficients for different values of penalty parameter\n",
    "beta_hats_lasso <- matrix(coef(lasso, s=lambdas)[-1,], nrow=dim(X_train)[2], ncol=length(lambdas))\n",
    "df <- data.frame(beta_hats_lasso)\n",
    "df[\"true_beta\"] <- beta_vec\n",
    "df[\"index\"] <- seq(1, dim(df)[1], 1)\n",
    "cols <- names(df)[1:(length(names(df))-2)]\n",
    "\n",
    "# Initialize plot\n",
    "plot <- ggplot(data=df, aes(x=index)) +\n",
    "        geom_line(aes(y=true_beta), linetype=\"dashed\", size=1, colour=\"darkgrey\") +\n",
    "        ylab(\"Lasso coefficients. w/ diff. shrinkage\") +\n",
    "        xlab(\"Beta\")\n",
    "\n",
    "i <- 1\n",
    "for (name in cols) {\n",
    "  plot <- plot + geom_line(aes_string(y=name),\n",
    "                           size=1.2, colour=\"#000d96\", alpha=i/(i+2))\n",
    "  i <- i+1\n",
    "}\n",
    "\n",
    "plot"
   ]
  },
  {
   "cell_type": "markdown",
   "metadata": {},
   "source": [
    "Initialize a larger gird for $\\lambda$ again (for visualization purposes) and rerun lasso for this grid. Extract the estimated $\\hat\\beta_{LASSO}$."
   ]
  },
  {
   "cell_type": "code",
   "execution_count": 11,
   "metadata": {},
   "outputs": [],
   "source": [
    "# Fit and extract estimates from ridge model with large penalties.\n",
    "lambda_grid_l <- seq(0, 1.25, by=.025) # Set \"large\" penalty grid\n",
    "lasso_l <- glmnet(X_train, y_train, alpha=1, lambda=lambda_grid_l, intercept=FALSE) # re-fit model\n",
    "beta_hats_lasso_l <- matrix(coef(lasso_l, s=lambda_grid_l)[-1,], nrow=dim(X_train)[2], ncol=length(lambda_grid_l))"
   ]
  },
  {
   "cell_type": "markdown",
   "metadata": {},
   "source": [
    "Plot all the fifty $\\hat\\beta_{LASSO}$ on the grid of $\\lambda$.\n",
    "\n",
    "_Expectation:_ The slope of the curves should be constant and negative showing that a larger $\\lambda$ shrinks the coefficients more and steadily so. We should see that the threshold for shrinkage to zero increases which results in more and more coefficients be set to exactly zero."
   ]
  },
  {
   "cell_type": "code",
   "execution_count": 12,
   "metadata": {},
   "outputs": [
    {
     "data": {
      "image/png": "[encoded data removed]",
      "text/plain": [
       "plot without title"
      ]
     },
     "metadata": {},
     "output_type": "display_data"
    }
   ],
   "source": [
    "# Plot all ridge coefficients with increasing lambda\n",
    "\n",
    "df <- data.frame(cbind(t(beta_hats_lasso_l), lambda_grid_l))\n",
    "cols <- names(df)[1:(length(names(df))-1)]\n",
    "\n",
    "# Initialize plot.\n",
    "plot <- ggplot(data=df, aes(x=lambda_grid_l)) +\n",
    "        geom_line(aes(y=0), lty=\"dashed\") +\n",
    "        ylab(\"All Lasso coefficients w/ diff. shrinkage\") +\n",
    "        xlab(\"Lambda\")\n",
    "\n",
    "# Loop through each beta and plot its value with increasing ridge penalty.\n",
    "for (name in cols) {\n",
    "  plot <- plot +\n",
    "          geom_line(aes_string(y=name), size=1, col=randomColor(count=1, luminosity=\"light\"))\n",
    "}\n",
    "\n",
    "plot"
   ]
  },
  {
   "cell_type": "markdown",
   "metadata": {},
   "source": [
    "*b) Draw a test data set and plot the test error for the different values of $\\lambda$.*"
   ]
  },
  {
   "cell_type": "markdown",
   "metadata": {},
   "source": [
    "We generate test data using the `generate_data` function implemented in *a)*. We then estimate the ridge and lasso model and compute the test errors in order to plot them for different $\\lambda$."
   ]
  },
  {
   "cell_type": "code",
   "execution_count": 13,
   "metadata": {},
   "outputs": [],
   "source": [
    "test_data <- generate_data(n=n, p=p, beta_vec=beta_vec)\n",
    "X_test <- test_data$X\n",
    "y_test <- test_data$y"
   ]
  },
  {
   "cell_type": "code",
   "execution_count": 14,
   "metadata": {},
   "outputs": [],
   "source": [
    "# Ridge --- predictions\n",
    "y_hat_ridge <- predict(ridge, newx=X_test)\n",
    "\n",
    "# Lasso --- predictions\n",
    "y_hat_lasso <- predict(lasso, newx=X_test)\n",
    "\n",
    "\n",
    "\n",
    "# Compute test errors\n",
    "test_error_ridge <- (matrix(y_test, nrow=length(y_test), ncol=length(lambda_grid)) - y_hat_ridge) ** 2\n",
    "test_error_ridge <- colMeans(test_error_ridge)\n",
    "test_error_lasso <- (matrix(y_test, nrow=length(y_test), ncol=length(lambda_grid)) - y_hat_lasso) ** 2\n",
    "test_error_lasso <- colMeans(test_error_lasso)"
   ]
  },
  {
   "cell_type": "code",
   "execution_count": 15,
   "metadata": {},
   "outputs": [
    {
     "data": {
      "image/png": "[encoded data removed]",
      "text/plain": [
       "plot without title"
      ]
     },
     "metadata": {},
     "output_type": "display_data"
    }
   ],
   "source": [
    "# Visualize results\n",
    "df <- data.frame(cbind(test_error_ridge, test_error_lasso, lambda_grid))\n",
    "plot <- ggplot(data=df, aes(x=lambda_grid)) +\n",
    "        geom_line(aes(x=lambda_grid, y=test_error_ridge, col=\"Ridge\"), size=1) +\n",
    "        geom_line(aes(x=lambda_grid, y=test_error_lasso, col=\"Lasso\"), size=1) +\n",
    "        labs(x = \"Lambda\", y = \"Test MSE\", colour=\"\")\n",
    "\n",
    "plot"
   ]
  },
  {
   "cell_type": "markdown",
   "metadata": {},
   "source": [
    "*c) Choose the optimal $\\lambda$ using the build in cross-validation function from glmnet and calculate the mean\n",
    "squared test error drawing a new test data set and compare OLS, ridge regression, lasso and adaptive\n",
    "lasso.* "
   ]
  },
  {
   "cell_type": "code",
   "execution_count": 16,
   "metadata": {},
   "outputs": [],
   "source": [
    "# Drawing a new test data set\n",
    "test_data <- generate_data(n=n, p=p, beta_vec=beta_vec)\n",
    "X_test <- test_data$X\n",
    "y_test <- test_data$y"
   ]
  },
  {
   "cell_type": "markdown",
   "metadata": {},
   "source": [
    "We first estimate the OLS model. Notice that OLS is a special case of the ridge model with $\\lambda = 0$. We then cross validate ridge regression, lasso and adaptive lasso."
   ]
  },
  {
   "cell_type": "markdown",
   "metadata": {},
   "source": [
    "**OLS**"
   ]
  },
  {
   "cell_type": "code",
   "execution_count": 17,
   "metadata": {},
   "outputs": [],
   "source": [
    "# OLS is special case of ridge model with lambda <- 0\n",
    "lambda <- 0\n",
    "beta_hat_ols <- solve(t(X_train) %*% X_train + lambda * diag(p)) %*% t(X_train) %*% y_train\n",
    "y_hat_ols <- X_test %*% beta_hat_ols"
   ]
  },
  {
   "cell_type": "markdown",
   "metadata": {},
   "source": [
    "**Ridge regression** $-$ cross-validated"
   ]
  },
  {
   "cell_type": "code",
   "execution_count": 18,
   "metadata": {},
   "outputs": [
    {
     "name": "stdout",
     "output_type": "stream",
     "text": [
      "Lambda with smallest in-sample MSE is 0.06800078"
     ]
    },
    {
     "data": {
      "image/png": "[encoded data removed]",
      "text/plain": [
       "plot without title"
      ]
     },
     "metadata": {},
     "output_type": "display_data"
    }
   ],
   "source": [
    "# Ridge model --- cross-validated\n",
    "cv_ridge <- cv.glmnet(X_train, y_train, alpha=0)\n",
    "\n",
    "# Test sample prediction\n",
    "y_hat_ridge <- predict(cv_ridge, newx=X_test)\n",
    "beta_hat_ridge_opt <- coef(cv_ridge, s=cv_ridge$lambda.min)@x\n",
    "\n",
    "plot(cv_ridge)\n",
    "\n",
    "cat(\"Lambda with smallest in-sample MSE is\", cv_ridge$lambda.min)"
   ]
  },
  {
   "cell_type": "markdown",
   "metadata": {},
   "source": [
    "**Lasso** $-$ cross-validated"
   ]
  },
  {
   "cell_type": "code",
   "execution_count": 19,
   "metadata": {},
   "outputs": [
    {
     "name": "stdout",
     "output_type": "stream",
     "text": [
      "Lambda with smallest in-sample MSE is 0.002560186"
     ]
    }
   ],
   "source": [
    "# Lasso model --- cross-validated\n",
    "cv_lasso <- cv.glmnet(X_train, y_train, alpha=1)\n",
    "y_hat_lasso <- predict(cv_lasso, newx=X_test)\n",
    "\n",
    "\n",
    "cat(\"Lambda with smallest in-sample MSE is\", cv_lasso$lambda.min)"
   ]
  },
  {
   "cell_type": "markdown",
   "metadata": {},
   "source": [
    "**Adaptive Lasso** $-$ cross-validated"
   ]
  },
  {
   "cell_type": "code",
   "execution_count": 20,
   "metadata": {},
   "outputs": [
    {
     "name": "stdout",
     "output_type": "stream",
     "text": [
      "Lambda with smallest in-sample MSE is 0.002328866"
     ]
    }
   ],
   "source": [
    "# Adaptive Lasso model --- cross-validated\n",
    "cv_adlasso <- cv.glmnet(X_train, y_train, alpha=1, penalty.factor=1/abs(beta_hat_ols))\n",
    "y_hat_adlasso <- predict(cv_adlasso, newx=X_test)\n",
    "\n",
    "cat(\"Lambda with smallest in-sample MSE is\", cv_adlasso$lambda.min)"
   ]
  },
  {
   "cell_type": "code",
   "execution_count": 21,
   "metadata": {},
   "outputs": [
    {
     "name": "stdout",
     "output_type": "stream",
     "text": [
      "MSE on test data for OLS is: 0.9775669 \n",
      "MSE on test data for Ridge is: 1.006367 \n",
      "MSE on test data for Lasso is: 0.9976307 \n",
      "MSE on test data for Adaptive Lasso is: 0.9969264 \n"
     ]
    }
   ],
   "source": [
    "# Calculate MSE\n",
    "cat(\"MSE on test data for OLS is:\", mean((y_test - y_hat_ols)**2), \"\\n\")\n",
    "cat(\"MSE on test data for Ridge is:\", mean((y_test - y_hat_ridge)**2), \"\\n\")\n",
    "cat(\"MSE on test data for Lasso is:\", mean((y_test - y_hat_lasso)**2), \"\\n\")\n",
    "cat(\"MSE on test data for Adaptive Lasso is:\", mean((y_test - y_hat_adlasso)**2), \"\\n\")"
   ]
  },
  {
   "cell_type": "markdown",
   "metadata": {},
   "source": [
    "## Exercise 2: Simulation Study\n",
    "\n",
    "Evaluate the difference in prediction performance of the four methods, as well as the model selection properties of the Lasso/adaptive Lasso, using $\\lambda$ chosen with cross validation."
   ]
  },
  {
   "cell_type": "code",
   "execution_count": 22,
   "metadata": {},
   "outputs": [],
   "source": [
    "sim_func <- function(n, p, beta_vec, sparsity) {\n",
    "  \n",
    "  # Change Sparsity, i.e. set some betas to zero\n",
    "  if (sparsity > 0) {\n",
    "    zero_coefs <- sample(1:p, size = sparsity)\n",
    "    beta_vec[zero_coefs] <- 0\n",
    "  }\n",
    "  \n",
    "  # Generate Test and Training Data Sets\n",
    "  train_data <- generate_data(n=n, p=p, beta_vec=beta_vec)\n",
    "  X_train <- train_data$X\n",
    "  y_train <- train_data$y\n",
    "  test_data <- generate_data(n=n, p=p, beta_vec=beta_vec)\n",
    "  X_test <- test_data$X\n",
    "  y_test <- test_data$y\n",
    "  \n",
    "  ## Fit Models and calculate MSE\n",
    "  beta_hat_OLS <-\n",
    "    solve(t(X_train) %*% X_train) %*% t(X_train) %*% y_train\n",
    "  test_MSE_OLS <- mean((X_test %*% beta_hat_OLS - y_test) ** 2)\n",
    "  \n",
    "  beta_hat_ridge <-\n",
    "    coef(cv.glmnet(X_train, y_train, alpha = 0, intercept = F))[-1]\n",
    "  test_MSE_ridge <- mean((X_test %*% beta_hat_ridge - y_test) ** 2)\n",
    "  \n",
    "  beta_hat_lasso <-\n",
    "    coef(cv.glmnet(X_train, y_train, alpha = 1, intercept = F))[-1]\n",
    "  test_MSE_lasso <- mean((X_test %*% beta_hat_lasso - y_test) ** 2)\n",
    "  \n",
    "  beta_hat_ad_lasso <-\n",
    "    coef(cv.glmnet(\n",
    "      X_train,\n",
    "      y_train,\n",
    "      alpha = 1,\n",
    "      intercept = F,\n",
    "      penalty.factor = 1 / abs(beta_hat_OLS)\n",
    "    ))[-1]\n",
    "  test_MSE_ad_lasso <-\n",
    "    mean((X_test %*% beta_hat_ad_lasso - y_test) ** 2)\n",
    "  \n",
    "  # Count Coefs correctly set to zero in Lasso and ad. Lasso\n",
    "  zero_coefs_L <- sum((beta_hat_lasso == beta_vec) & (beta_hat_lasso == 0))\n",
    "  zero_coefs_aL <- sum(beta_hat_ad_lasso == beta_vec & (beta_hat_lasso == 0))\n",
    "  \n",
    "  # Count Coefs incorrectly set to zero in Lasso and ad. Lasso\n",
    "  wrong_zeros_L <- sum(beta_hat_lasso == 0) - zero_coefs_L\n",
    "  wrong_zeros_aL <- sum(beta_hat_ad_lasso == 0) - zero_coefs_aL\n",
    "  \n",
    "  return(\n",
    "    list(\n",
    "      MSE_OLS = test_MSE_OLS,\n",
    "      MSE_ridge = test_MSE_ridge,\n",
    "      MSE_lasso = test_MSE_lasso,\n",
    "      MSE_ad_lasso = test_MSE_ad_lasso,\n",
    "      zero_coefs_L = zero_coefs_L,\n",
    "      zero_coefs_aL = zero_coefs_aL,\n",
    "      wrong_zeros_L = wrong_zeros_L,\n",
    "      wrong_zeros_aL = wrong_zeros_aL\n",
    "    )\n",
    "  )\n",
    "  \n",
    "}"
   ]
  },
  {
   "cell_type": "code",
   "execution_count": 23,
   "metadata": {},
   "outputs": [],
   "source": [
    "plot_func <- function(mean_test_MSEs, ylim, leg_x, leg_y, xticks) {\n",
    "  if (xticks == \"no\") {\n",
    "    plot(\n",
    "      mean_test_MSEs[, 1],\n",
    "      mean_test_MSEs[, 2],\n",
    "      type = \"b\",\n",
    "      pch = 19,\n",
    "      xlab = colnames(mean_test_MSEs)[1],\n",
    "      ylab = \"Mean Test MSE\",\n",
    "      ylim = ylim, \n",
    "      las = 1\n",
    "    )\n",
    "  }\n",
    "  else {\n",
    "    xticks  <- 1:dim(mean_test_MSEs)[1]\n",
    "    plot(\n",
    "      mean_test_MSEs[, 1],\n",
    "      mean_test_MSEs[, 2],\n",
    "      type = \"b\",\n",
    "      pch = 19,\n",
    "      xlab = colnames(mean_test_MSEs)[1],\n",
    "      ylab = \"Mean Test MSE\",\n",
    "      ylim = ylim,\n",
    "      xaxt = \"n\",\n",
    "      las = 2\n",
    "    )\n",
    "    \n",
    "    axis(side = 1, at = xticks, labels = xticks)\n",
    "  }\n",
    "  lines(\n",
    "    mean_test_MSEs[, 1],\n",
    "    mean_test_MSEs[, 3],\n",
    "    type = \"b\",\n",
    "    pch = 19,\n",
    "    col = \"red\"\n",
    "  )\n",
    "  lines(\n",
    "    mean_test_MSEs[, 1],\n",
    "    mean_test_MSEs[, 4],\n",
    "    type = \"b\",\n",
    "    pch = 19,\n",
    "    col = \"blue\"\n",
    "  )\n",
    "  lines(\n",
    "    mean_test_MSEs[, 1],\n",
    "    mean_test_MSEs[, 5],\n",
    "    type = \"b\",\n",
    "    pch = 18,\n",
    "    col = \"blue\",\n",
    "    lty = 2\n",
    "  )\n",
    "  legend(\n",
    "    leg_x,\n",
    "    leg_y,\n",
    "    legend = c(\"OLS\", \"Ridge\", \"Lasso\", \"ad. Lasso\"),\n",
    "    col = c(\"black\", \"red\", \"blue\", \"blue\"),\n",
    "    lty = c(1, 1, 1, 2),\n",
    "    cex = 0.8\n",
    "  )\n",
    "}"
   ]
  },
  {
   "cell_type": "code",
   "execution_count": 24,
   "metadata": {},
   "outputs": [],
   "source": [
    "initialize_empty_matrices <- function(first_col, rows) {\n",
    "  mean_test_MSEs <- matrix(NA, nrow = rows, ncol = 5)\n",
    "  colnames(mean_test_MSEs) <-\n",
    "    c(first_col, \"OLS\", \"Ridge\", \"Lasso\", \"ad_Lasso\")\n",
    "  \n",
    "  mean_zero_coefs <- matrix(NA, nrow = rows, ncol = 5)\n",
    "  colnames(mean_zero_coefs) <- c(first_col, \"Lasso\", \"ad_Lasso\", \"wrong_Lasso\", \"wrong_ad_L\")\n",
    "  return(list(MSE = mean_test_MSEs, zero_coefs = mean_zero_coefs))\n",
    "}"
   ]
  },
  {
   "cell_type": "markdown",
   "metadata": {},
   "source": [
    "### a)\n",
    "Increasing the number of predictors (while keeping the number of observations fixed).\n",
    "\n",
    "*Expectation:*  \n",
    "Ridge should perform better than Lasso/ad. Lasso"
   ]
  },
  {
   "cell_type": "code",
   "execution_count": 25,
   "metadata": {},
   "outputs": [],
   "source": [
    "reps <- 25\n",
    "\n",
    "predictors <- c(50, 100, 150)\n",
    "\n",
    "mean_test_MSEs <-\n",
    "  initialize_empty_matrices(first_col = \"p\", rows = length(predictors))$MSE\n",
    "mean_zero_coefs <-\n",
    "  initialize_empty_matrices(first_col = \"p\", rows = length(predictors))$zero_coefs\n",
    "\n",
    "for (p in predictors) {\n",
    "  simulation <-\n",
    "    replicate(reps, sim_func(\n",
    "      n = 200,\n",
    "      p = p,\n",
    "      beta_vec = seq(0.1, 0.5, length.out = p),\n",
    "      sparsity = 0\n",
    "    ))\n",
    "  sim <-  mapply(simulation, FUN = as.numeric)\n",
    "  sim <- matrix(data = sim, ncol = reps)\n",
    "  mean_values <- rowMeans(sim)\n",
    "  \n",
    "  # Fill Matrix with Test MSEs\n",
    "  mean_test_MSEs[which(predictors == p), 1] = p\n",
    "  for (i in 2:5) {\n",
    "    mean_test_MSEs[which(predictors == p), i] = mean_values[i - 1]\n",
    "  }\n",
    "  \n",
    "  # Fill Matrix with number of coefs set to zero\n",
    "  mean_zero_coefs[which(predictors == p), 1] = p\n",
    "  mean_zero_coefs[which(predictors == p), 2] = mean_values[5]\n",
    "  mean_zero_coefs[which(predictors == p), 3] = mean_values[6]\n",
    "  mean_zero_coefs[which(predictors == p), 4] = mean_values[7]\n",
    "  mean_zero_coefs[which(predictors == p), 5] = mean_values[8]  \n",
    "}"
   ]
  },
  {
   "cell_type": "code",
   "execution_count": 26,
   "metadata": {},
   "outputs": [
    {
     "name": "stdout",
     "output_type": "stream",
     "text": [
      "[1] \"Mean Test Errors\"\n"
     ]
    },
    {
     "data": {
      "text/html": [
       "<table>\n",
       "<thead><tr><th scope=col>p</th><th scope=col>OLS</th><th scope=col>Ridge</th><th scope=col>Lasso</th><th scope=col>ad_Lasso</th></tr></thead>\n",
       "<tbody>\n",
       "\t<tr><td> 50     </td><td>1.431237</td><td>1.469739</td><td>1.545165</td><td>1.717954</td></tr>\n",
       "\t<tr><td>100     </td><td>2.074986</td><td>2.100834</td><td>2.299065</td><td>2.777324</td></tr>\n",
       "\t<tr><td>150     </td><td>4.650423</td><td>3.694228</td><td>4.607061</td><td>6.339295</td></tr>\n",
       "</tbody>\n",
       "</table>\n"
      ],
      "text/latex": [
       "\\begin{tabular}{lllll}\n",
       " p & OLS & Ridge & Lasso & ad\\_Lasso\\\\\n",
       "\\hline\n",
       "\t  50      & 1.431237 & 1.469739 & 1.545165 & 1.717954\\\\\n",
       "\t 100      & 2.074986 & 2.100834 & 2.299065 & 2.777324\\\\\n",
       "\t 150      & 4.650423 & 3.694228 & 4.607061 & 6.339295\\\\\n",
       "\\end{tabular}\n"
      ],
      "text/markdown": [
       "\n",
       "| p | OLS | Ridge | Lasso | ad_Lasso |\n",
       "|---|---|---|---|---|\n",
       "|  50      | 1.431237 | 1.469739 | 1.545165 | 1.717954 |\n",
       "| 100      | 2.074986 | 2.100834 | 2.299065 | 2.777324 |\n",
       "| 150      | 4.650423 | 3.694228 | 4.607061 | 6.339295 |\n",
       "\n"
      ],
      "text/plain": [
       "     p   OLS      Ridge    Lasso    ad_Lasso\n",
       "[1,]  50 1.431237 1.469739 1.545165 1.717954\n",
       "[2,] 100 2.074986 2.100834 2.299065 2.777324\n",
       "[3,] 150 4.650423 3.694228 4.607061 6.339295"
      ]
     },
     "metadata": {},
     "output_type": "display_data"
    }
   ],
   "source": [
    "print(\"Mean Test Errors\")\n",
    "mean_test_MSEs"
   ]
  },
  {
   "cell_type": "code",
   "execution_count": 27,
   "metadata": {},
   "outputs": [
    {
     "name": "stdout",
     "output_type": "stream",
     "text": [
      "[1] \"Avg. Coefficients set to Zero\"\n"
     ]
    },
    {
     "data": {
      "text/html": [
       "<table>\n",
       "<thead><tr><th scope=col>p</th><th scope=col>Lasso</th><th scope=col>ad_Lasso</th><th scope=col>wrong_Lasso</th><th scope=col>wrong_ad_L</th></tr></thead>\n",
       "<tbody>\n",
       "\t<tr><td> 50  </td><td>0    </td><td>0    </td><td>1.32 </td><td> 4.52</td></tr>\n",
       "\t<tr><td>100  </td><td>0    </td><td>0    </td><td>2.44 </td><td> 8.44</td></tr>\n",
       "\t<tr><td>150  </td><td>0    </td><td>0    </td><td>6.16 </td><td>20.60</td></tr>\n",
       "</tbody>\n",
       "</table>\n"
      ],
      "text/latex": [
       "\\begin{tabular}{lllll}\n",
       " p & Lasso & ad\\_Lasso & wrong\\_Lasso & wrong\\_ad\\_L\\\\\n",
       "\\hline\n",
       "\t  50   & 0     & 0     & 1.32  &  4.52\\\\\n",
       "\t 100   & 0     & 0     & 2.44  &  8.44\\\\\n",
       "\t 150   & 0     & 0     & 6.16  & 20.60\\\\\n",
       "\\end{tabular}\n"
      ],
      "text/markdown": [
       "\n",
       "| p | Lasso | ad_Lasso | wrong_Lasso | wrong_ad_L |\n",
       "|---|---|---|---|---|\n",
       "|  50   | 0     | 0     | 1.32  |  4.52 |\n",
       "| 100   | 0     | 0     | 2.44  |  8.44 |\n",
       "| 150   | 0     | 0     | 6.16  | 20.60 |\n",
       "\n"
      ],
      "text/plain": [
       "     p   Lasso ad_Lasso wrong_Lasso wrong_ad_L\n",
       "[1,]  50 0     0        1.32         4.52     \n",
       "[2,] 100 0     0        2.44         8.44     \n",
       "[3,] 150 0     0        6.16        20.60     "
      ]
     },
     "metadata": {},
     "output_type": "display_data"
    }
   ],
   "source": [
    "print(\"Avg. Coefficients set to Zero\")\n",
    "mean_zero_coefs"
   ]
  },
  {
   "cell_type": "code",
   "execution_count": 28,
   "metadata": {},
   "outputs": [
    {
     "data": {
      "image/png": "[encoded data removed]",
      "text/plain": [
       "plot without title"
      ]
     },
     "metadata": {},
     "output_type": "display_data"
    }
   ],
   "source": [
    "plot_func(\n",
    "  mean_test_MSEs,\n",
    "  ylim = c(1, 7),\n",
    "  leg_x = 50,\n",
    "  leg_y = 6,\n",
    "  xticks = \"no\"\n",
    ")"
   ]
  },
  {
   "cell_type": "markdown",
   "metadata": {},
   "source": [
    "## b) \n",
    "Increasing the Degree of Sparsity (while keeping the number of Predictors fixed), i.e. set some of the true coefficients to zero.\n",
    "\n",
    "*Expectation:*  \n",
    "Lasso and adaptive Lasso should perform better with increasing degree of sparsity in $\\beta$."
   ]
  },
  {
   "cell_type": "code",
   "execution_count": 29,
   "metadata": {},
   "outputs": [],
   "source": [
    "reps <- 25\n",
    "\n",
    "sparsity <- c(0, 20, 30, 40, 45)\n",
    "\n",
    "mean_test_MSEs <-\n",
    "  initialize_empty_matrices(first_col = \"Sparsity\", rows = length(sparsity))$MSE\n",
    "mean_zero_coefs <-\n",
    "  initialize_empty_matrices(first_col = \"Sparsity\", rows = length(sparsity))$zero_coefs\n",
    "\n",
    "\n",
    "for (s in sparsity) {\n",
    "  simulation <-\n",
    "    replicate(reps, sim_func(\n",
    "      n = 500,\n",
    "      p = 50,\n",
    "      beta_vec = seq(0.1, 0.5, length.out = 50),\n",
    "      sparsity = s\n",
    "    ))\n",
    "  sim <-  mapply(simulation, FUN = as.numeric)\n",
    "  sim <- matrix(data = sim, ncol = reps)\n",
    "  mean_values <- rowMeans(sim)\n",
    "  \n",
    "  # Fill Matrix with Test MSEs\n",
    "  mean_test_MSEs[which(sparsity == s), 1] = s\n",
    "  for (i in 2:5) {\n",
    "    mean_test_MSEs[which(sparsity == s), i] = mean_values[i - 1]\n",
    "  }\n",
    "  \n",
    "  # Fill Matrix with number of coefs set to zero\n",
    "  mean_zero_coefs[which(sparsity == s), 1] = s\n",
    "  mean_zero_coefs[which(sparsity == s), 2] = mean_values[5]\n",
    "  mean_zero_coefs[which(sparsity == s), 3] = mean_values[6]\n",
    "  mean_zero_coefs[which(sparsity == s), 4] = mean_values[7]\n",
    "  mean_zero_coefs[which(sparsity == s), 5] = mean_values[8]\n",
    "}\n"
   ]
  },
  {
   "cell_type": "code",
   "execution_count": 30,
   "metadata": {},
   "outputs": [
    {
     "name": "stdout",
     "output_type": "stream",
     "text": [
      "[1] \"Mean Test Errors\"\n"
     ]
    },
    {
     "data": {
      "text/html": [
       "<table>\n",
       "<thead><tr><th scope=col>Sparsity</th><th scope=col>OLS</th><th scope=col>Ridge</th><th scope=col>Lasso</th><th scope=col>ad_Lasso</th></tr></thead>\n",
       "<tbody>\n",
       "\t<tr><td> 0      </td><td>1.123040</td><td>1.189999</td><td>1.193720</td><td>1.227703</td></tr>\n",
       "\t<tr><td>20      </td><td>1.129757</td><td>1.188761</td><td>1.191849</td><td>1.167005</td></tr>\n",
       "\t<tr><td>30      </td><td>1.138275</td><td>1.200756</td><td>1.174532</td><td>1.144182</td></tr>\n",
       "\t<tr><td>40      </td><td>1.118153</td><td>1.177136</td><td>1.126225</td><td>1.087583</td></tr>\n",
       "\t<tr><td>45      </td><td>1.121826</td><td>1.181063</td><td>1.117369</td><td>1.085479</td></tr>\n",
       "</tbody>\n",
       "</table>\n"
      ],
      "text/latex": [
       "\\begin{tabular}{lllll}\n",
       " Sparsity & OLS & Ridge & Lasso & ad\\_Lasso\\\\\n",
       "\\hline\n",
       "\t  0       & 1.123040 & 1.189999 & 1.193720 & 1.227703\\\\\n",
       "\t 20       & 1.129757 & 1.188761 & 1.191849 & 1.167005\\\\\n",
       "\t 30       & 1.138275 & 1.200756 & 1.174532 & 1.144182\\\\\n",
       "\t 40       & 1.118153 & 1.177136 & 1.126225 & 1.087583\\\\\n",
       "\t 45       & 1.121826 & 1.181063 & 1.117369 & 1.085479\\\\\n",
       "\\end{tabular}\n"
      ],
      "text/markdown": [
       "\n",
       "| Sparsity | OLS | Ridge | Lasso | ad_Lasso |\n",
       "|---|---|---|---|---|\n",
       "|  0       | 1.123040 | 1.189999 | 1.193720 | 1.227703 |\n",
       "| 20       | 1.129757 | 1.188761 | 1.191849 | 1.167005 |\n",
       "| 30       | 1.138275 | 1.200756 | 1.174532 | 1.144182 |\n",
       "| 40       | 1.118153 | 1.177136 | 1.126225 | 1.087583 |\n",
       "| 45       | 1.121826 | 1.181063 | 1.117369 | 1.085479 |\n",
       "\n"
      ],
      "text/plain": [
       "     Sparsity OLS      Ridge    Lasso    ad_Lasso\n",
       "[1,]  0       1.123040 1.189999 1.193720 1.227703\n",
       "[2,] 20       1.129757 1.188761 1.191849 1.167005\n",
       "[3,] 30       1.138275 1.200756 1.174532 1.144182\n",
       "[4,] 40       1.118153 1.177136 1.126225 1.087583\n",
       "[5,] 45       1.121826 1.181063 1.117369 1.085479"
      ]
     },
     "metadata": {},
     "output_type": "display_data"
    }
   ],
   "source": [
    "print(\"Mean Test Errors\")\n",
    "mean_test_MSEs"
   ]
  },
  {
   "cell_type": "code",
   "execution_count": 31,
   "metadata": {},
   "outputs": [
    {
     "name": "stdout",
     "output_type": "stream",
     "text": [
      "[1] \"Avg. Coefficients set to Zero\"\n"
     ]
    },
    {
     "data": {
      "text/html": [
       "<table>\n",
       "<thead><tr><th scope=col>Sparsity</th><th scope=col>Lasso</th><th scope=col>ad_Lasso</th><th scope=col>wrong_Lasso</th><th scope=col>wrong_ad_L</th></tr></thead>\n",
       "<tbody>\n",
       "\t<tr><td> 0   </td><td> 0.00</td><td> 0.00</td><td>0.08 </td><td>1.04 </td></tr>\n",
       "\t<tr><td>20   </td><td>14.64</td><td>14.64</td><td>0.32 </td><td>5.76 </td></tr>\n",
       "\t<tr><td>30   </td><td>24.88</td><td>24.88</td><td>0.12 </td><td>4.96 </td></tr>\n",
       "\t<tr><td>40   </td><td>38.68</td><td>38.68</td><td>0.28 </td><td>1.92 </td></tr>\n",
       "\t<tr><td>45   </td><td>44.60</td><td>44.60</td><td>0.28 </td><td>0.84 </td></tr>\n",
       "</tbody>\n",
       "</table>\n"
      ],
      "text/latex": [
       "\\begin{tabular}{lllll}\n",
       " Sparsity & Lasso & ad\\_Lasso & wrong\\_Lasso & wrong\\_ad\\_L\\\\\n",
       "\\hline\n",
       "\t  0    &  0.00 &  0.00 & 0.08  & 1.04 \\\\\n",
       "\t 20    & 14.64 & 14.64 & 0.32  & 5.76 \\\\\n",
       "\t 30    & 24.88 & 24.88 & 0.12  & 4.96 \\\\\n",
       "\t 40    & 38.68 & 38.68 & 0.28  & 1.92 \\\\\n",
       "\t 45    & 44.60 & 44.60 & 0.28  & 0.84 \\\\\n",
       "\\end{tabular}\n"
      ],
      "text/markdown": [
       "\n",
       "| Sparsity | Lasso | ad_Lasso | wrong_Lasso | wrong_ad_L |\n",
       "|---|---|---|---|---|\n",
       "|  0    |  0.00 |  0.00 | 0.08  | 1.04  |\n",
       "| 20    | 14.64 | 14.64 | 0.32  | 5.76  |\n",
       "| 30    | 24.88 | 24.88 | 0.12  | 4.96  |\n",
       "| 40    | 38.68 | 38.68 | 0.28  | 1.92  |\n",
       "| 45    | 44.60 | 44.60 | 0.28  | 0.84  |\n",
       "\n"
      ],
      "text/plain": [
       "     Sparsity Lasso ad_Lasso wrong_Lasso wrong_ad_L\n",
       "[1,]  0        0.00  0.00    0.08        1.04      \n",
       "[2,] 20       14.64 14.64    0.32        5.76      \n",
       "[3,] 30       24.88 24.88    0.12        4.96      \n",
       "[4,] 40       38.68 38.68    0.28        1.92      \n",
       "[5,] 45       44.60 44.60    0.28        0.84      "
      ]
     },
     "metadata": {},
     "output_type": "display_data"
    }
   ],
   "source": [
    "print(\"Avg. Coefficients set to Zero\")\n",
    "mean_zero_coefs"
   ]
  },
  {
   "cell_type": "code",
   "execution_count": 32,
   "metadata": {},
   "outputs": [
    {
     "data": {
      "image/png": "[encoded data removed]",
      "text/plain": [
       "plot without title"
      ]
     },
     "metadata": {},
     "output_type": "display_data"
    }
   ],
   "source": [
    "plot_func(\n",
    "  mean_test_MSEs,\n",
    "  ylim = c(1, 1.4),\n",
    "  leg_x = 0,\n",
    "  leg_y = 1.4,\n",
    "  xticks = \"no\"\n",
    ")"
   ]
  },
  {
   "cell_type": "markdown",
   "metadata": {},
   "source": [
    "## c) Further Manipulations of DGP to compare Ridge and (adaptive) Lasso\n",
    "\n",
    "We have looked how Ridge and (adaptive) Lasso performed when increasing the number of predictors in *a)* and when increasing the sparsity in $\\beta$ in *b)*.\n",
    "\n",
    "Recall that\n",
    "* Ridge performs better than (adaptive) Lasso with more and more predictors\n",
    "* (Adaptive) Lasso performs better with increased sparsity of model\n",
    "\n",
    "Now, what happens if we decrease the value of $\\beta$?\n",
    "\n",
    "In Exercise 1 we saw that Ridge shrinks coefficient estimates more pronounced for larger values while never setting them to zero. Lasso on the other hand sets coefficients to zero at a certain threshold.\n",
    "\n",
    "*Expectation*: For very large values of $\\beta$ Ridge should perform worse since it introduces a lot of bias by shrinking larger coefficients more pronounced in absolute terms."
   ]
  },
  {
   "cell_type": "code",
   "execution_count": 33,
   "metadata": {},
   "outputs": [],
   "source": [
    "reps <- 25\n",
    "p <- 50\n",
    "s <- 0\n",
    "\n",
    "# What to vary over\n",
    "b.vec <- c(.1, .125, .25, .5, 1, 1.5, 2)"
   ]
  },
  {
   "cell_type": "code",
   "execution_count": 34,
   "metadata": {},
   "outputs": [],
   "source": [
    "mean_test_MSEs <-\n",
    "  initialize_empty_matrices(first_col = \"betas\", rows = length(b.vec))$MSE\n",
    "mean_zero_coefs <-\n",
    "  initialize_empty_matrices(first_col = \"betas\", rows = length(b.vec))$zero_coefs\n",
    "\n",
    "\n",
    "for (b in b.vec) {\n",
    "  simulation <-\n",
    "    replicate(reps, sim_func(\n",
    "      n = 500,\n",
    "      p = 50,\n",
    "      beta_vec = rep(b, p),\n",
    "      sparsity = 0\n",
    "    ))\n",
    "  sim <- mapply(simulation, FUN = as.numeric)\n",
    "  sim <- matrix(data = sim, ncol = reps)\n",
    "  mean_values <- rowMeans(sim)\n",
    "  \n",
    "  # Fill Matrix with Test MSEs\n",
    "  mean_test_MSEs[which(b.vec == b), 1] = b\n",
    "  for (i in 2:5) {\n",
    "    mean_test_MSEs[which(b.vec == b), i] = mean_values[i - 1]\n",
    "  }\n",
    "  \n",
    "  # Fill Matrix with number of coefs set to zero\n",
    "  mean_zero_coefs[which(b.vec == b), 1] = b\n",
    "  mean_zero_coefs[which(b.vec == b), 2] = mean_values[5]\n",
    "  mean_zero_coefs[which(b.vec == b), 3] = mean_values[6]\n",
    "  mean_zero_coefs[which(b.vec == b), 4] = mean_values[7]\n",
    "  mean_zero_coefs[which(b.vec == b), 5] = mean_values[8]\n",
    "}"
   ]
  },
  {
   "cell_type": "code",
   "execution_count": 35,
   "metadata": {},
   "outputs": [
    {
     "name": "stdout",
     "output_type": "stream",
     "text": [
      "[1] \"Mean Test Errors\"\n"
     ]
    },
    {
     "data": {
      "text/html": [
       "<table>\n",
       "<thead><tr><th scope=col>betas</th><th scope=col>OLS</th><th scope=col>Ridge</th><th scope=col>Lasso</th><th scope=col>ad_Lasso</th></tr></thead>\n",
       "<tbody>\n",
       "\t<tr><td>0.100   </td><td>1.148737</td><td>1.181749</td><td>1.197172</td><td>1.268093</td></tr>\n",
       "\t<tr><td>0.125   </td><td>1.106730</td><td>1.171822</td><td>1.182449</td><td>1.255390</td></tr>\n",
       "\t<tr><td>0.250   </td><td>1.149226</td><td>1.213903</td><td>1.213246</td><td>1.263329</td></tr>\n",
       "\t<tr><td>0.500   </td><td>1.103398</td><td>1.160301</td><td>1.171801</td><td>1.188825</td></tr>\n",
       "\t<tr><td>1.000   </td><td>1.125148</td><td>1.234166</td><td>1.189974</td><td>1.195657</td></tr>\n",
       "\t<tr><td>1.500   </td><td>1.128517</td><td>1.329436</td><td>1.207929</td><td>1.211886</td></tr>\n",
       "\t<tr><td>2.000   </td><td>1.150247</td><td>1.459664</td><td>1.228858</td><td>1.243500</td></tr>\n",
       "</tbody>\n",
       "</table>\n"
      ],
      "text/latex": [
       "\\begin{tabular}{lllll}\n",
       " betas & OLS & Ridge & Lasso & ad\\_Lasso\\\\\n",
       "\\hline\n",
       "\t 0.100    & 1.148737 & 1.181749 & 1.197172 & 1.268093\\\\\n",
       "\t 0.125    & 1.106730 & 1.171822 & 1.182449 & 1.255390\\\\\n",
       "\t 0.250    & 1.149226 & 1.213903 & 1.213246 & 1.263329\\\\\n",
       "\t 0.500    & 1.103398 & 1.160301 & 1.171801 & 1.188825\\\\\n",
       "\t 1.000    & 1.125148 & 1.234166 & 1.189974 & 1.195657\\\\\n",
       "\t 1.500    & 1.128517 & 1.329436 & 1.207929 & 1.211886\\\\\n",
       "\t 2.000    & 1.150247 & 1.459664 & 1.228858 & 1.243500\\\\\n",
       "\\end{tabular}\n"
      ],
      "text/markdown": [
       "\n",
       "| betas | OLS | Ridge | Lasso | ad_Lasso |\n",
       "|---|---|---|---|---|\n",
       "| 0.100    | 1.148737 | 1.181749 | 1.197172 | 1.268093 |\n",
       "| 0.125    | 1.106730 | 1.171822 | 1.182449 | 1.255390 |\n",
       "| 0.250    | 1.149226 | 1.213903 | 1.213246 | 1.263329 |\n",
       "| 0.500    | 1.103398 | 1.160301 | 1.171801 | 1.188825 |\n",
       "| 1.000    | 1.125148 | 1.234166 | 1.189974 | 1.195657 |\n",
       "| 1.500    | 1.128517 | 1.329436 | 1.207929 | 1.211886 |\n",
       "| 2.000    | 1.150247 | 1.459664 | 1.228858 | 1.243500 |\n",
       "\n"
      ],
      "text/plain": [
       "     betas OLS      Ridge    Lasso    ad_Lasso\n",
       "[1,] 0.100 1.148737 1.181749 1.197172 1.268093\n",
       "[2,] 0.125 1.106730 1.171822 1.182449 1.255390\n",
       "[3,] 0.250 1.149226 1.213903 1.213246 1.263329\n",
       "[4,] 0.500 1.103398 1.160301 1.171801 1.188825\n",
       "[5,] 1.000 1.125148 1.234166 1.189974 1.195657\n",
       "[6,] 1.500 1.128517 1.329436 1.207929 1.211886\n",
       "[7,] 2.000 1.150247 1.459664 1.228858 1.243500"
      ]
     },
     "metadata": {},
     "output_type": "display_data"
    }
   ],
   "source": [
    "print(\"Mean Test Errors\")\n",
    "mean_test_MSEs"
   ]
  },
  {
   "cell_type": "code",
   "execution_count": 36,
   "metadata": {},
   "outputs": [
    {
     "name": "stdout",
     "output_type": "stream",
     "text": [
      "[1] \"Avg. Coefficients set to Zero\"\n"
     ]
    },
    {
     "data": {
      "text/html": [
       "<table>\n",
       "<thead><tr><th scope=col>betas</th><th scope=col>Lasso</th><th scope=col>ad_Lasso</th><th scope=col>wrong_Lasso</th><th scope=col>wrong_ad_L</th></tr></thead>\n",
       "<tbody>\n",
       "\t<tr><td>0.100</td><td>0    </td><td>0    </td><td>3.08 </td><td>7.76 </td></tr>\n",
       "\t<tr><td>0.125</td><td>0    </td><td>0    </td><td>0.72 </td><td>3.20 </td></tr>\n",
       "\t<tr><td>0.250</td><td>0    </td><td>0    </td><td>0.00 </td><td>0.04 </td></tr>\n",
       "\t<tr><td>0.500</td><td>0    </td><td>0    </td><td>0.00 </td><td>0.00 </td></tr>\n",
       "\t<tr><td>1.000</td><td>0    </td><td>0    </td><td>0.00 </td><td>0.00 </td></tr>\n",
       "\t<tr><td>1.500</td><td>0    </td><td>0    </td><td>0.00 </td><td>0.00 </td></tr>\n",
       "\t<tr><td>2.000</td><td>0    </td><td>0    </td><td>0.00 </td><td>0.00 </td></tr>\n",
       "</tbody>\n",
       "</table>\n"
      ],
      "text/latex": [
       "\\begin{tabular}{lllll}\n",
       " betas & Lasso & ad\\_Lasso & wrong\\_Lasso & wrong\\_ad\\_L\\\\\n",
       "\\hline\n",
       "\t 0.100 & 0     & 0     & 3.08  & 7.76 \\\\\n",
       "\t 0.125 & 0     & 0     & 0.72  & 3.20 \\\\\n",
       "\t 0.250 & 0     & 0     & 0.00  & 0.04 \\\\\n",
       "\t 0.500 & 0     & 0     & 0.00  & 0.00 \\\\\n",
       "\t 1.000 & 0     & 0     & 0.00  & 0.00 \\\\\n",
       "\t 1.500 & 0     & 0     & 0.00  & 0.00 \\\\\n",
       "\t 2.000 & 0     & 0     & 0.00  & 0.00 \\\\\n",
       "\\end{tabular}\n"
      ],
      "text/markdown": [
       "\n",
       "| betas | Lasso | ad_Lasso | wrong_Lasso | wrong_ad_L |\n",
       "|---|---|---|---|---|\n",
       "| 0.100 | 0     | 0     | 3.08  | 7.76  |\n",
       "| 0.125 | 0     | 0     | 0.72  | 3.20  |\n",
       "| 0.250 | 0     | 0     | 0.00  | 0.04  |\n",
       "| 0.500 | 0     | 0     | 0.00  | 0.00  |\n",
       "| 1.000 | 0     | 0     | 0.00  | 0.00  |\n",
       "| 1.500 | 0     | 0     | 0.00  | 0.00  |\n",
       "| 2.000 | 0     | 0     | 0.00  | 0.00  |\n",
       "\n"
      ],
      "text/plain": [
       "     betas Lasso ad_Lasso wrong_Lasso wrong_ad_L\n",
       "[1,] 0.100 0     0        3.08        7.76      \n",
       "[2,] 0.125 0     0        0.72        3.20      \n",
       "[3,] 0.250 0     0        0.00        0.04      \n",
       "[4,] 0.500 0     0        0.00        0.00      \n",
       "[5,] 1.000 0     0        0.00        0.00      \n",
       "[6,] 1.500 0     0        0.00        0.00      \n",
       "[7,] 2.000 0     0        0.00        0.00      "
      ]
     },
     "metadata": {},
     "output_type": "display_data"
    }
   ],
   "source": [
    "print(\"Avg. Coefficients set to Zero\")\n",
    "mean_zero_coefs"
   ]
  },
  {
   "cell_type": "code",
   "execution_count": 37,
   "metadata": {},
   "outputs": [
    {
     "data": {
      "image/png": "[encoded data removed]",
      "text/plain": [
       "plot without title"
      ]
     },
     "metadata": {},
     "output_type": "display_data"
    }
   ],
   "source": [
    "plot_func(\n",
    "  mean_test_MSEs,\n",
    "  ylim = c(1, 1.6),\n",
    "  leg_x = .1,\n",
    "  leg_y = 1.6,\n",
    "  xticks = \"no\"\n",
    ")"
   ]
  },
  {
   "cell_type": "markdown",
   "metadata": {},
   "source": [
    "Here, Ridge seems to work poorer for larger values of the entire $\\beta$ vector, since it tends to scale down larger coefficient estimates more pronounced. This introduces bias. Its MSE on test data converges to that of (adaptive) Lasso as the applied shrinkage (in total terms) becomes less pronounced. For very small $\\beta$ there is indication that (adaptive) Lasso performs worse $-$ it is probable that in these scenarios (adaptive) Lasso drops too many predictors from the model. OLS performs alright since we are not really too much worried about overfitting."
   ]
  },
  {
   "cell_type": "markdown",
   "metadata": {},
   "source": [
    "### Two very different DGPs\n",
    "\n",
    "We learned how Ridge and (adaptive) Lasso tend to perform when varying simple parameters of the data generating process. The next processes put it all together.\n",
    "\n",
    "\n",
    "Model 1: true coefficients relatively large, sparsity in $\\beta$ relatively big  \n",
    "--> *Lasso/ad. Lasso should perform better than Ridge*\n",
    "\n",
    "Model 2: large number of coefficients, all of them have a relatively small effect  \n",
    "--> *Ridge should perform better than Lasso/ad. Lasso*"
   ]
  },
  {
   "cell_type": "code",
   "execution_count": 38,
   "metadata": {},
   "outputs": [],
   "source": [
    "reps <- 25\n",
    "\n",
    "# Model 1\n",
    "p1 <- 25\n",
    "s1 <- 20\n",
    "b1 <- rep(.5, p1)\n",
    "\n",
    "# Model 2\n",
    "p2 <- 50\n",
    "s2 <- 0\n",
    "b2 <- rep(.1, p2)"
   ]
  },
  {
   "cell_type": "code",
   "execution_count": 39,
   "metadata": {},
   "outputs": [],
   "source": [
    "mean_test_MSEs <-\n",
    "  initialize_empty_matrices(first_col = \"Model\", rows = 2)$MSE\n",
    "mean_zero_coefs <-\n",
    "  initialize_empty_matrices(first_col = \"Model\", rows = 2)$zero_coefs\n",
    "\n",
    "\n",
    "for (m in 1:2) {\n",
    "  if (m == 1) {\n",
    "    p <- p1\n",
    "    s <- s1\n",
    "    b <- b1\n",
    "  }\n",
    "  if (m == 2) {\n",
    "    p <- p2\n",
    "    s <- s2\n",
    "    b <- b2\n",
    "  }\n",
    "  simulation <-\n",
    "    replicate(reps, sim_func(\n",
    "      n = 150,\n",
    "      p = p,\n",
    "      beta_vec = b,\n",
    "      sparsity = s\n",
    "    ))\n",
    "  sim <-  mapply(simulation, FUN = as.numeric)\n",
    "  sim <- matrix(data = sim, ncol = reps)\n",
    "  mean_values <- rowMeans(sim)\n",
    "  \n",
    "  # Fill Matrix with Test MSEs\n",
    "  mean_test_MSEs[m, 1] = m\n",
    "  for (i in 2:5) {\n",
    "    mean_test_MSEs[m, i] = mean_values[i - 1]\n",
    "  }\n",
    "  \n",
    "  # Fill Matrix with number of coefs set to zero\n",
    "  mean_zero_coefs[m, 1] = m\n",
    "  mean_zero_coefs[m, 2] = mean_values[5]\n",
    "  mean_zero_coefs[m, 3] = mean_values[6]\n",
    "  mean_zero_coefs[m, 4] = mean_values[7]\n",
    "  mean_zero_coefs[m, 5] = mean_values[8]  \n",
    "}"
   ]
  },
  {
   "cell_type": "code",
   "execution_count": 40,
   "metadata": {},
   "outputs": [
    {
     "name": "stdout",
     "output_type": "stream",
     "text": [
      "[1] \"Mean Test Errors\"\n"
     ]
    },
    {
     "data": {
      "text/html": [
       "<table>\n",
       "<thead><tr><th scope=col>Model</th><th scope=col>OLS</th><th scope=col>Ridge</th><th scope=col>Lasso</th><th scope=col>ad_Lasso</th></tr></thead>\n",
       "<tbody>\n",
       "\t<tr><td>1       </td><td>1.252393</td><td>1.330923</td><td>1.229240</td><td>1.171097</td></tr>\n",
       "\t<tr><td>2       </td><td>1.625774</td><td>1.383769</td><td>1.521209</td><td>1.566186</td></tr>\n",
       "</tbody>\n",
       "</table>\n"
      ],
      "text/latex": [
       "\\begin{tabular}{lllll}\n",
       " Model & OLS & Ridge & Lasso & ad\\_Lasso\\\\\n",
       "\\hline\n",
       "\t 1        & 1.252393 & 1.330923 & 1.229240 & 1.171097\\\\\n",
       "\t 2        & 1.625774 & 1.383769 & 1.521209 & 1.566186\\\\\n",
       "\\end{tabular}\n"
      ],
      "text/markdown": [
       "\n",
       "| Model | OLS | Ridge | Lasso | ad_Lasso |\n",
       "|---|---|---|---|---|\n",
       "| 1        | 1.252393 | 1.330923 | 1.229240 | 1.171097 |\n",
       "| 2        | 1.625774 | 1.383769 | 1.521209 | 1.566186 |\n",
       "\n"
      ],
      "text/plain": [
       "     Model OLS      Ridge    Lasso    ad_Lasso\n",
       "[1,] 1     1.252393 1.330923 1.229240 1.171097\n",
       "[2,] 2     1.625774 1.383769 1.521209 1.566186"
      ]
     },
     "metadata": {},
     "output_type": "display_data"
    }
   ],
   "source": [
    "print(\"Mean Test Errors\")\n",
    "mean_test_MSEs"
   ]
  },
  {
   "cell_type": "code",
   "execution_count": 41,
   "metadata": {},
   "outputs": [
    {
     "name": "stdout",
     "output_type": "stream",
     "text": [
      "[1] \"Avg. Coefficients set to Zero\"\n"
     ]
    },
    {
     "data": {
      "text/html": [
       "<table>\n",
       "<thead><tr><th scope=col>Model</th><th scope=col>Lasso</th><th scope=col>ad_Lasso</th><th scope=col>wrong_Lasso</th><th scope=col>wrong_ad_L</th></tr></thead>\n",
       "<tbody>\n",
       "\t<tr><td>1    </td><td>18.76</td><td>18.68</td><td> 0.0 </td><td> 0.84</td></tr>\n",
       "\t<tr><td>2    </td><td> 0.00</td><td> 0.00</td><td>27.6 </td><td>27.92</td></tr>\n",
       "</tbody>\n",
       "</table>\n"
      ],
      "text/latex": [
       "\\begin{tabular}{lllll}\n",
       " Model & Lasso & ad\\_Lasso & wrong\\_Lasso & wrong\\_ad\\_L\\\\\n",
       "\\hline\n",
       "\t 1     & 18.76 & 18.68 &  0.0  &  0.84\\\\\n",
       "\t 2     &  0.00 &  0.00 & 27.6  & 27.92\\\\\n",
       "\\end{tabular}\n"
      ],
      "text/markdown": [
       "\n",
       "| Model | Lasso | ad_Lasso | wrong_Lasso | wrong_ad_L |\n",
       "|---|---|---|---|---|\n",
       "| 1     | 18.76 | 18.68 |  0.0  |  0.84 |\n",
       "| 2     |  0.00 |  0.00 | 27.6  | 27.92 |\n",
       "\n"
      ],
      "text/plain": [
       "     Model Lasso ad_Lasso wrong_Lasso wrong_ad_L\n",
       "[1,] 1     18.76 18.68     0.0         0.84     \n",
       "[2,] 2      0.00  0.00    27.6        27.92     "
      ]
     },
     "metadata": {},
     "output_type": "display_data"
    }
   ],
   "source": [
    "print(\"Avg. Coefficients set to Zero\")\n",
    "mean_zero_coefs"
   ]
  },
  {
   "cell_type": "code",
   "execution_count": 42,
   "metadata": {},
   "outputs": [
    {
     "data": {
      "image/png": "[encoded data removed]",
      "text/plain": [
       "plot without title"
      ]
     },
     "metadata": {},
     "output_type": "display_data"
    }
   ],
   "source": [
    "plot_func(\n",
    "  mean_test_MSEs,\n",
    "  ylim = c(1, 1.7),\n",
    "  leg_x = 1,\n",
    "  leg_y = 1.6,\n",
    "  xticks = \"y\"\n",
    ")"
   ]
  },
  {
   "cell_type": "markdown",
   "metadata": {},
   "source": [
    "## Backup\n",
    "\n",
    "**Actually, changing the sparsity is enough already for Ridge and (adaptive) Lasso to switch their ranking in performance due to the model selection property of (adaptive) Lasso**"
   ]
  },
  {
   "cell_type": "code",
   "execution_count": 43,
   "metadata": {},
   "outputs": [],
   "source": [
    "p <- 50\n",
    "b <- rep(0.5, p)\n",
    "\n",
    "# What to vary over\n",
    "s1 <- 40\n",
    "s2 <- 0"
   ]
  },
  {
   "cell_type": "code",
   "execution_count": 44,
   "metadata": {},
   "outputs": [],
   "source": [
    "mean_test_MSEs <-\n",
    "  initialize_empty_matrices(first_col = \"Model\", rows = 2)$MSE\n",
    "mean_zero_coefs <-\n",
    "  initialize_empty_matrices(first_col = \"Model\", rows = 2)$zero_coefs\n",
    "\n",
    "\n",
    "for (m in 1:2) {\n",
    "  if (m == 1) {\n",
    "    s <- s1\n",
    "  }\n",
    "  if (m == 2) {\n",
    "    s <- s2\n",
    "  }\n",
    "  simulation <-\n",
    "    replicate(reps, sim_func(\n",
    "      n = 150,\n",
    "      p = p,\n",
    "      beta_vec = b,\n",
    "      sparsity = s\n",
    "    ))\n",
    "  sim <-  mapply(simulation, FUN = as.numeric)\n",
    "  sim <- matrix(data = sim, ncol = reps)\n",
    "  mean_values <- rowMeans(sim)\n",
    "  \n",
    "  # Fill Matrix with Test MSEs\n",
    "  mean_test_MSEs[m, 1] = m\n",
    "  for (i in 2:5) {\n",
    "    mean_test_MSEs[m, i] = mean_values[i - 1]\n",
    "  }\n",
    "  \n",
    "  # Fill Matrix with number of coefs set to zero\n",
    "  mean_zero_coefs[m, 1] = m\n",
    "  mean_zero_coefs[m, 2] = mean_values[5]\n",
    "  mean_zero_coefs[m, 3] = mean_values[6]\n",
    "  mean_zero_coefs[m, 4] = mean_values[7]\n",
    "  mean_zero_coefs[m, 5] = mean_values[8]  \n",
    "}"
   ]
  },
  {
   "cell_type": "code",
   "execution_count": 45,
   "metadata": {},
   "outputs": [
    {
     "name": "stdout",
     "output_type": "stream",
     "text": [
      "[1] \"Mean Test Errors\"\n"
     ]
    },
    {
     "data": {
      "text/html": [
       "<table>\n",
       "<thead><tr><th scope=col>Model</th><th scope=col>OLS</th><th scope=col>Ridge</th><th scope=col>Lasso</th><th scope=col>ad_Lasso</th></tr></thead>\n",
       "<tbody>\n",
       "\t<tr><td>1       </td><td>1.565533</td><td>1.650173</td><td>1.383956</td><td>1.265795</td></tr>\n",
       "\t<tr><td>2       </td><td>1.557877</td><td>1.650312</td><td>1.680764</td><td>1.830539</td></tr>\n",
       "</tbody>\n",
       "</table>\n"
      ],
      "text/latex": [
       "\\begin{tabular}{lllll}\n",
       " Model & OLS & Ridge & Lasso & ad\\_Lasso\\\\\n",
       "\\hline\n",
       "\t 1        & 1.565533 & 1.650173 & 1.383956 & 1.265795\\\\\n",
       "\t 2        & 1.557877 & 1.650312 & 1.680764 & 1.830539\\\\\n",
       "\\end{tabular}\n"
      ],
      "text/markdown": [
       "\n",
       "| Model | OLS | Ridge | Lasso | ad_Lasso |\n",
       "|---|---|---|---|---|\n",
       "| 1        | 1.565533 | 1.650173 | 1.383956 | 1.265795 |\n",
       "| 2        | 1.557877 | 1.650312 | 1.680764 | 1.830539 |\n",
       "\n"
      ],
      "text/plain": [
       "     Model OLS      Ridge    Lasso    ad_Lasso\n",
       "[1,] 1     1.565533 1.650173 1.383956 1.265795\n",
       "[2,] 2     1.557877 1.650312 1.680764 1.830539"
      ]
     },
     "metadata": {},
     "output_type": "display_data"
    }
   ],
   "source": [
    "print(\"Mean Test Errors\")\n",
    "mean_test_MSEs"
   ]
  },
  {
   "cell_type": "code",
   "execution_count": 46,
   "metadata": {},
   "outputs": [
    {
     "name": "stdout",
     "output_type": "stream",
     "text": [
      "[1] \"Avg. Coefficients set to Zero\"\n"
     ]
    },
    {
     "data": {
      "text/html": [
       "<table>\n",
       "<thead><tr><th scope=col>Model</th><th scope=col>Lasso</th><th scope=col>ad_Lasso</th><th scope=col>wrong_Lasso</th><th scope=col>wrong_ad_L</th></tr></thead>\n",
       "<tbody>\n",
       "\t<tr><td>1    </td><td>34.72</td><td>34.72</td><td>0    </td><td>4.08 </td></tr>\n",
       "\t<tr><td>2    </td><td> 0.00</td><td> 0.00</td><td>0    </td><td>0.00 </td></tr>\n",
       "</tbody>\n",
       "</table>\n"
      ],
      "text/latex": [
       "\\begin{tabular}{lllll}\n",
       " Model & Lasso & ad\\_Lasso & wrong\\_Lasso & wrong\\_ad\\_L\\\\\n",
       "\\hline\n",
       "\t 1     & 34.72 & 34.72 & 0     & 4.08 \\\\\n",
       "\t 2     &  0.00 &  0.00 & 0     & 0.00 \\\\\n",
       "\\end{tabular}\n"
      ],
      "text/markdown": [
       "\n",
       "| Model | Lasso | ad_Lasso | wrong_Lasso | wrong_ad_L |\n",
       "|---|---|---|---|---|\n",
       "| 1     | 34.72 | 34.72 | 0     | 4.08  |\n",
       "| 2     |  0.00 |  0.00 | 0     | 0.00  |\n",
       "\n"
      ],
      "text/plain": [
       "     Model Lasso ad_Lasso wrong_Lasso wrong_ad_L\n",
       "[1,] 1     34.72 34.72    0           4.08      \n",
       "[2,] 2      0.00  0.00    0           0.00      "
      ]
     },
     "metadata": {},
     "output_type": "display_data"
    }
   ],
   "source": [
    "print(\"Avg. Coefficients set to Zero\")\n",
    "mean_zero_coefs"
   ]
  },
  {
   "cell_type": "code",
   "execution_count": 47,
   "metadata": {},
   "outputs": [
    {
     "data": {
      "image/png": "[encoded data removed]",
      "text/plain": [
       "plot without title"
      ]
     },
     "metadata": {},
     "output_type": "display_data"
    }
   ],
   "source": [
    "plot_func(\n",
    "  mean_test_MSEs,\n",
    "  ylim = c(1.1, 1.9),\n",
    "  leg_x = 1,\n",
    "  leg_y = 1.9,\n",
    "  xticks = \"y\"\n",
    ")"
   ]
  }
 ],
 "metadata": {
  "kernelspec": {
   "display_name": "R",
   "language": "R",
   "name": "ir"
  },
  "language_info": {
   "codemirror_mode": "r",
   "file_extension": ".r",
   "mimetype": "text/x-r-source",
   "name": "R",
   "pygments_lexer": "r",
   "version": "3.6.3"
  },
  "varInspector": {
   "cols": {
    "lenName": 16,
    "lenType": 16,
    "lenVar": 40
   },
   "kernels_config": {
    "python": {
     "delete_cmd_postfix": "",
     "delete_cmd_prefix": "del ",
     "library": "var_list.py",
     "varRefreshCmd": "print(var_dic_list())"
    },
    "r": {
     "delete_cmd_postfix": ") ",
     "delete_cmd_prefix": "rm(",
     "library": "var_list.r",
     "varRefreshCmd": "cat(var_dic_list()) "
    }
   },
   "types_to_exclude": [
    "module",
    "function",
    "builtin_function_or_method",
    "instance",
    "_Feature"
   ],
   "window_display": false
  }
 },
 "nbformat": 4,
 "nbformat_minor": 4
}
