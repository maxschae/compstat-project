{
 "cells": [
  {
   "cell_type": "markdown",
   "metadata": {},
   "source": [
    "## Variable Selection and Potential Omitted Variable Bias with LASSO\n",
    "#### Term Paper Computational Statistics\n",
    "\n",
    "<br>\n",
    "\n",
    "*Instructor*: JProf. Dr. Lena Janys\n",
    "\n",
    "*Author*: Max Schäfer\n",
    "\n",
    "*Program*: M.Sc. Economics, University of Bonn (Summer Term 2020)\n",
    "\n",
    "\n",
    "\n",
    "\n",
    "<br>\n",
    "<hr />\n",
    "\n",
    "### Reference Section\n",
    "\n",
    "\n",
    "[**1.** Introduction](#introduction)\n",
    "    \n",
    "[**2.** OLS and the LASSO](#section-ii)\n",
    "\n",
    "[**3.** Data Generating Process and Identification Problem](#section-iii)\n",
    "\n",
    "[**4.** Simulation Study](#section-iv)\n",
    "\n",
    "[**5.** Concluding Remarks](#conclusion)\n",
    "\n",
    "[References](#references)\n",
    "\n",
    "[Appendix](#appendix)\n",
    "\n",
    "<hr />\n",
    "<br>\n",
    "\n",
    "\n",
    "Please feel free to ask any question, or to comment on the work."
   ]
  },
  {
   "cell_type": "markdown",
   "metadata": {},
   "source": [
    "<a id='introduction'></a>\n",
    "## 1. Introduction"
   ]
  },
  {
   "cell_type": "markdown",
   "metadata": {},
   "source": [
    "#### Machine Learning and Causal Inference\n",
    "Identifying causal relationships is the pronounced goal of many empirical researchers and the toolkit to approach causal questions has grown in recent years (Athey and Imbens, 2017). Econometrics as the go-to field for empirical economists is increasingly in exchange with and will continue to be influenced by the machine learning (ML) literature (Athey, 2018, BOOK). The integration of ML algorithms into applied economic research is, among other factors, driven by the availability of high-dimensional datasets $-$ here, *high-dimensional* refers to datasets with many variables, possibly more variables than observations. This poses new possbilities of analysis, but also traditional workflows may become tedious or infeasible. ML features a palette of methods to deal with high-dimensional data. However, off-the-shelve ML methods are primarily used for prediction problems, and their usage does not free the researcher from making assumptions and performing a strategy when the goal is to identify causal relationships (Athey, 2018, BOOK).\n",
    "\n",
    "At the intersection of ML and causal inference, a variety of interesting approaches emerge, with an overview in Athey (2018, BOOK) and Athey and Imbens (2017). One of them is so-called *post-double-selection* method by Belloni et al. (2014) where in a potentially high-dimensional setting the researcher seeks to identify a causal effect under the assumption of unconfoundedness (TODO. give some literature). With observational data to obtain the unbiased treatment effect estimate this assumption requires that all variables explaining both the outcome and the variable of interest, say a treatment, are included in the model $-$ given they are observable. However, in higher dimensions with a rationale to omit variables from the final model, variable selection methods may drop variables based on their weak association with the outcome, albeit they are highly predictive of the treatment, and therewith introducing *omitted variable bias* (OVB). To overcome this issue, the interest of variable selection lies primarily on including all confounding factors whose omission leads to a biased treatment effect estimate, and Belloni et al. (2014) propose to regress both the outcome and the treatment onto all potential covariates using the *least absolute shrinkage and selection operator* (LASSO) which features variable selection. The union of selected variables from both regressions form the set of covariates in the final model, which is then less prone to be affected by OVB compared to an approach when variable selection is performed on all variables in a single step. In this term paper, I want to study the variable selection property of LASSO with respect to prediction (TODO: name metrics evaluted) in general, and the double-selection method by Belloni et al. (2014) in environments where all data to achieve unconfoundedness is collected, the true model is sparse and where OVB can potentially arise if variable selection is required."
   ]
  },
  {
   "cell_type": "markdown",
   "metadata": {},
   "source": [
    "#### House Prices and Public Policy\n",
    "Housing is a critical aspect of human life and varies greatly across countries (for a visual portrayal, see the [Dollar Street](https://www.gapminder.org/dollar-street/?topic=front-doors)) and also at a much finer level across neighborhoods. Policies that aim to improve living standards in neighborhoods may be evaluated through house prices. That is, a policy effect identified can often be $-$ in the fashion of local revealed preferences $-$ interpreted as the willingness-to-pay for the policy to take place, especially if the policy's outcome is difficult to value (Gibbons, 2015). For instance, valuation of a recreational park in the city center is not straight-forward since there is no market transaction with an observable price. For further examples and an overview of studies that use house prices to infer willingness-to-pay, e.g. for public transport or school quality, see Gibbons and Machin (2008). Also, externalities such as the visiual impairment from wind turbines can be measured through house prices, as is done in Gibbons (2015) and Frondel et al. (2019a). \n",
    "\n",
    "This strand of literature using house prices to infer willingness-to-pay for a policy inspires the setup and data-generating process. Typically, houses as the unit of observation can be described by many features ranging from physical attributes to geographical and socioeconomic aspects of the neighborhood. When the true model explaining house prices is sparse but confounding factors among the entire set of variables exist, it is not at all clear which variables to include in the final model. This empirical challenge then motivates the use of a variable selection procedure which is not agnostic about the underlying data-generating process and the identification problem, which are introduced in detail in [section 3](#section-iii). In this term paper, I choose to investigate the double-selection method by Belloni et al. (2014) which essentially uses two LASSO models to select variables included in the final OLS model by regressing the outcome and the treatment separately on all available variables. This procedure aims to identify potential confounders and thus reducing the risk of OVB. [Section 2](#section-iv) contains theoretical notes on the methods OLS and LASSO."
   ]
  },
  {
   "cell_type": "markdown",
   "metadata": {},
   "source": [
    "Good:\n",
    "* \n",
    "* \n",
    "\n",
    "Bad:\n",
    "* \n",
    "* \n",
    "\n",
    "Missing:\n",
    "* In the potential outcome framework introduced by Rubin (TODO: literature!!), a causal effect can be identified <- sentence in 1. or 2.?\n",
    "* name metrics which will be evaluated...\n",
    "* more background on standard ML procedures like test train validate split, cross-validation etc.?\n"
   ]
  },
  {
   "cell_type": "markdown",
   "metadata": {},
   "source": [
    "<a id='section-ii'></a>\n",
    "## 2. OLS and the LASSO"
   ]
  },
  {
   "cell_type": "markdown",
   "metadata": {},
   "source": [
    "The double-selection method builds on identifying potential confounding factors by means of LASSO and estimating a treatment effect under the unconfoundedness assumption using OLS. In this section, theoretical notes on OLS and LASSO and their interplay in the double-selection method are briefly provided. For further reading refer to MOSTLY HARMLESS, James et al. (AAAAA).\n",
    "\n",
    "Consider the $n \\times p$ regressor matrix $X$ and the outcome vector $y$ of a training dataset, where $n$ and $p$ denote the number of observations and regressors, respectively. The linear relationship between predictors and outcome can be expressed by $y_{i} = \\sum^{p}x'_{i}\\beta$ and is captured by the coefficient vector $\\beta$.\n",
    "\n",
    "**OLS**\n",
    "\n",
    "The coefficient vector can be estimated by OLS and is the solution to the following minimization problem: \n",
    "\n",
    "$\\sum_{i=1}^{n} (y_{i} - \\beta_{0} - \\sum_{j=1}^{p} \\beta_{j} x_{ij} )^2$. \n",
    "\n",
    "In words, the OLS estimator minimizes the sum of squared residuals known as *RSS*. One can show that any additional regressor $x_{-j}$ included in the regression model $y_{i} = \\sum^{p}x^{T}_{i}\\beta + \\epsilon_{i}$ will weakly decrease the training data's RSS. In the extreme case of $n=p$ every coefficient in the OLS solution $\\beta_{OLS}$ will be equal to an outcome value. While in this case the training RSS is zero, it is impossible to grasp any general relationship between $X$ and $y$. When the training data is fit too well and no meaningful relationship between predictors and the outcome can be derived, we refer to overfitting. Predicting the outcome for a new set of observations (e.g. test data) will likely yield bad results in terms of standard metrics such as the test mean squared error (MSE). \n",
    "\n",
    "In high dimensions with $n < p$ the OLS solution is not unique, and would not yield much information given the researcher is interest in learning meaningful (linear) relationships between (some) predictors and the outcome. Technically, the OLS solution to $\\beta_{OLS} = argmin_{\\beta} \\{(y - X\\beta)^2 \\}$ is infeasible and the OLS estimator given by $\\beta_{OLS} = (X^{T}X)^{-1}X^{T}y$ cannot be computed since $(X^{T}X)$ cannot be inverted given it has not full column rank. Without some form of variable selection, i.e. setting elements of $\\beta$ to zero, a unique solution does not exist.\n",
    "\n",
    "<br>"
   ]
  },
  {
   "cell_type": "markdown",
   "metadata": {},
   "source": [
    "**LASSO** \n",
    "\n",
    "One procedure which does not require $n>p$ for an unique solution is given by the LASSO formulation of the problem introduced above, first written up by Tibshirani (1996): \n",
    "\n",
    "$\\sum_{i=1}^{n} (y_{i} - \\beta_{0} - \\sum_{j=1}^{p} \\beta_{j} x_{ij} )^2 + \\lambda \\sum_{j=1}^{p} \\lvert \\beta_{j} \\rvert $\n",
    "\n",
    "Again, the RSS shows up in the objective function but is now governed by an additional quantity, the LASSO penalty $\\lambda \\sum_{j=1}^{p} \\lvert \\beta_{j} \\rvert $. It consists of the $l_{1}$-norm $\\lvert\\lvert \\beta \\rvert\\rvert_1$ and the shrinkage parameter $\\lambda$. Since the LASSO puts a penalty on the coefficient's value itself, it is reduced in absolute value. Consequently, the larger this penalty is, the more pronounced coefficient estimates are shrunken towards zero, and some will be set equal to zero. This means, for a sufficiently large $\\lambda$ predictors which are not or weakly associated with the outcome can be excluded from the model, granting LASSO a *variable selection* property. Intuitively, the LASSO solution is *sparse* in the sense that the final model has less predictors than observations, therefore allowing to deduce interpretable relationships between predictors and the outcome. Aside from increased model interpretability, $n<p$ is a necessary condition in high dimensions if an outcome is regressed on LASSO-selected predictors to conduct valid inference on parameter estimates (Belloni et al., 2014).[<sup>1</sup>](#fn1)\n",
    "\n",
    "The technical reason LASSO is able to shrink coefficients all the way to zero comes from using the $l_{1}$-norm in the minimization problem. A prior formulation of the minimization problem featuring the $l_{2}$-norm referred to as *Ridge* does not allow variable selection since coefficients are never set to zero. James et al. (2013) offer great intuition why this is the case and the explanation here follows closely; rewrite the problem so that the RSS is minimized subject to constrained coefficients: $ min! \\sum_{i=1}^{n} (y_{i} - \\beta_{0} - \\sum_{j=1}^{p} \\beta_{j} x_{ij} )^2$ subject to $\\sum_{j=1}^{p} \\lvert \\beta_{j} \\rvert \\leq s $ where a 1-to-1 mapping between $\\lambda$ and $s$ exists. The constraint forms a budget that can be spend on coefficients' size as the RSS is minimized. For larger budgets (corresponding to a smaller penalty $\\lambda$) less shrinkage takes place and the LASSO solution may well end up to be the OLS solution (given we are not operating in high dimensions). Now, imagine the regressor matrix consists of two variables with $\\beta_1$ and $\\beta_2$ governing the linear relationship with the outcome. The LASSO constraint region where all feasible values of $\\beta$ for a given budget $\\tilde{s}$ (or similarly, $\\lambda$) lie, is then given by $ \\lvert \\beta_1 \\rvert + \\lvert \\beta_2 \\rvert \\leq \\tilde{s} $ and is depicted by the blue area in Figure 2.1's left panel borrowed from James et al. (2013). The red ellipses around the OLS estimator $\\hat{\\beta}$ exhibit the same RSS, which increases with distance to the OLS solution. Meeting the constraint, the most outward ellipse touches the constraint region at the vertical axis which yields $\\beta_1$ to be zero. This is LASSO's variable selection at play. In contrast, consider the right-hand side of Figure 2.1's panel depicting the case of Ridge with a *round* constraint region (e.g. $ \\beta_1^2 + \\beta_2^2 \\leq \\tilde{s} $ ) where the ellipses are effectively not touching the constraint region at the axis; and thus, not setting coefficient estimates to zero. The intuition for $p>2$ carries through.\n",
    "\n",
    "[1] <span id=\"fn1\">Recall, that due to shrinking the coefficients may be biased and valid inference is not possible per-se.</span>"
   ]
  },
  {
   "cell_type": "markdown",
   "metadata": {},
   "source": [
    "*Figure 2.1*\n",
    "<img src=\"graphs/lasso_ridge_plot.png\" height=500 width=500 />"
   ]
  },
  {
   "cell_type": "markdown",
   "metadata": {},
   "source": [
    "If not provided with a value (or vector) of the tuning parameter the LASSO algorithm starts with a very high initial value of $\\lambda$ where all coefficients are set to zero, and the model is essentially the null-model without any regressors, except for an intercept if chosen (CHECKTHIS). By subsequently reducing the penalty paramater less and less predictors are excluded from the model until a stopping criterion is reached. Usually, this stopping criterion is metric to evaluate predicitons made on a test set which was not used for training the LASSO parameters. Since the LASSO solution is continuously evaluated against a test dataset, the risk of overfitting is guarded against. In the ML literature, this procedure is called cross-validation and is in many cases considered obligatory when choosing tuning parameters. If the initial dataset is split into many subsets which are subsequently used to train and evaluate the model, one speaks of k-fold cross-validation, which is also applied in this project. See SUBSECTION 2.X where the double-selection procedure is described in greater detail.\n",
    "\n",
    "\n",
    "\n",
    "\n",
    "\n",
    "\n",
    "\n",
    "There exist a variety of variable selection methods based on LASSO which alter and enrich the penalty term applied to the coefficient vector. Some of these advancements aim to incorporate prior knowledge of the coefficient estimates (such as IPF-LASSO, or Group-LASSO) [SOURCES].\n",
    "\n"
   ]
  },
  {
   "cell_type": "markdown",
   "metadata": {},
   "source": [
    "**Double-selection method** \n",
    "\n",
    "The LASSO is a regularization and variable selection method that excludes variables from the regression model based on coefficient sizes which reflect the association between predictors and the outcome. Following this reasoning, predictors which are weakly associated with the outcome are excluded from the model, given the penalty parameter is sufficiently large. This is might be optimal in terms of out-of-sample prediction since the variance of predictions is reduced which trades-off the bias introduced by shrunken coefficients. Such a trade-off is reflected in the MSE which is an important metric to evaluate prediction of a quantitive response, and which can be decomposed into a bias and variance part $-$ informally, $MSE = bias^2 + variance$ (James et al., 2013). With bias in prediction due to shrunken coefficients, coefficient estimates themselves are prone to be biased. Inference on these estimates is thus infeasible. In cases where variable selection is mandated by high dimensions LASSO can be used to select a low dimensional set of variables whose coefficients are then estimated by OLS in a subsequent regression. For instance, Belloni and Chernozhukov (2013) show good theoretical performance of the OLS estimator in modelling the regression function after selecting variables by means of LASSO in a first step, even when the true model is not perfectly selected. Inference on estimates is then \"brought back\" to grounds which are very well understood. However, some argue that such a procedure is problematic for (causal) inference since variable selection of plain LASSO is geared towards prediction, and with imperfect model selection omitted variable bias may occur if confounding factors are excluded for their low direct association with the outcome, see Athey and Imbens (2017) or Belloni et al. (2014).\n",
    "\n",
    "To counteract the risk of OVB in a potentially high dimensional setting where the researcher is interested in causal inference on a single parameter, the treatment effect, under the assumption of unconfoundedness, Belloni et al. (2014) propose a double-selection method which consists of three steps:\n",
    "\n",
    "1. Select a set of control variables that predict the outcome by means of LASSO (first stage)\n",
    "2. Select a set of control variables that predict the treatment by means of LASSO (second stage)\n",
    "3. Estimate the treatment effect by an OLS regression of the outcome on the union of selected control variables from 1. and 2.\n",
    "\n",
    "\n",
    "\n",
    ". imperfect variable selection\n",
    ". assumptions needed to achieve these results: approximate sparsity [TODO]\n"
   ]
  },
  {
   "cell_type": "markdown",
   "metadata": {},
   "source": [
    "While the data-generating process and the identification problem are described in more detail in section 3, consider here the linear model to introduce the double-selection more formally.\n",
    "\n",
    "Consider the two linear models \n",
    "\n",
    "(1) $y_{i} = D_{i} \\alpha + X_{i} \\beta + \\epsilon_{i}$\n",
    "\n",
    "(2) $D_{i} = X_{i} \\gamma + u_{i}$\n",
    "\n",
    "where $y_{i}$ is the outcome, $D_{i}$ is the scalar treatment and $X_{i}$ is the vector of controls for individual $i = 1, ..., n$. The mean-zero disturbances are given by $\\epsilon_{i}$ and $u_{i}$.\n",
    "\n",
    "Following the double-selection procedure, LASSO is used to select features from regressing $y$ on $X$ yielding the subset $\\bar{X}^{1}$ in a first-step, then selected features from predicting the treatment $D$ with the same regressor matrix $X$ by LASSO are stored in $\\bar{X}^{2}$. The union of $\\bar{X}^{1}$ and $\\bar{X}^{2}$, denoted by $\\bar{X}$, is then used in an OLS regression of the outcome $y$ onto the treatment $D$ and matrix of controls $\\bar{X}$.\n",
    "\n",
    "The final OLS regression model estimated in the third step of the procedure reads \n",
    "\n",
    "(3) $y_{i} = D_{i} \\alpha^* + \\bar{X_{i}} \\beta + v_{i}$\n",
    "\n",
    "According to Belloni et al. (2014), inference (e.g. building confidence intervals) on the treatment effect estimator $\\hat{\\alpha}^*$ is valid [CHECKTHIS].\n"
   ]
  },
  {
   "cell_type": "markdown",
   "metadata": {},
   "source": [
    "$\\sum_{1}^{2}$"
   ]
  },
  {
   "cell_type": "markdown",
   "metadata": {},
   "source": [
    "What to look at\n",
    "\n",
    "* OLS for final estimation\n",
    "* Variable selection without prior knowledge (and focus on prediction), purely data-driven: LASSO\n",
    "* Variable selection without prior knowledge (and focus on OVB, unconfoundedness), purely data-driven: double-selection with LASSO\n",
    "* Variable selection with prior knowledge: adaptive LASSO, IPF-LASSO, Group-LASSO etc.\n",
    "* thresholded lasso (when betas with very small values are additionally dropped), see Least Squares after model selection"
   ]
  },
  {
   "cell_type": "markdown",
   "metadata": {},
   "source": [
    "Note that the presence of high dimensional data does not only arise because of the richness of modern datasets but also when the researcher wishes to specify flexible functional forms or the inclusion of many interactions between covariates."
   ]
  },
  {
   "cell_type": "markdown",
   "metadata": {},
   "source": []
  },
  {
   "cell_type": "markdown",
   "metadata": {},
   "source": [
    "Good:\n",
    "* \n",
    "* \n",
    "\n",
    "Bad:\n",
    "* What happens if the beta coefficients are smaller due to measurement? Measured in EUR versus measured in TEUR: explanatory power should be the same, coef size is not. What will LASSO do?\n",
    "* \n",
    "\n",
    "Missing:\n",
    "* How to choose LAMBDA <- this is a critical point, is it cross-validation or the one Belloni et al use... or some other rule-of-thumb\n",
    "* "
   ]
  },
  {
   "cell_type": "markdown",
   "metadata": {},
   "source": [
    "<a id='section-iii'></a>\n",
    "## 3. Data Generating Process and Identification Problem"
   ]
  },
  {
   "cell_type": "markdown",
   "metadata": {},
   "source": [
    "Questions to ask:\n",
    "* is true model sparse or not?\n",
    "* degree of correlation?\n",
    "* how many Xs do we have? are we in high dimensions or not?\n",
    "\n",
    "* two cases (or smooth): with OVB / without OVB, or smooth: degree of OVB, perhaps, as measured with share of Xs correlated with both D and Y\n"
   ]
  },
  {
   "cell_type": "markdown",
   "metadata": {},
   "source": [
    "#### Current notes on dgp\n",
    "\n",
    "TODO how is this to interpret? the geographical features of the HOUSES's\n",
    ". neighborhood / geographical cell determine whether a wind turbine is\n",
    ".  constructed, one of this predictors is surely the density of houses\n"
   ]
  },
  {
   "cell_type": "code",
   "execution_count": null,
   "metadata": {},
   "outputs": [],
   "source": []
  },
  {
   "cell_type": "markdown",
   "metadata": {},
   "source": [
    "*Graph 1*\n",
    "<img src=\"graphs/dgp_1.png\" height=500 width=500 />"
   ]
  },
  {
   "cell_type": "markdown",
   "metadata": {},
   "source": []
  },
  {
   "cell_type": "markdown",
   "metadata": {},
   "source": [
    "*Graph 2*\n",
    "<img src=\"graphs/dgp_2.png\" height=515 width=515 />"
   ]
  },
  {
   "cell_type": "markdown",
   "metadata": {},
   "source": []
  },
  {
   "cell_type": "markdown",
   "metadata": {},
   "source": [
    "*Graph 3*\n",
    "<img src=\"graphs/dgp_3.png\" height=530 width=530 />"
   ]
  },
  {
   "cell_type": "markdown",
   "metadata": {},
   "source": [
    "I assume that all data to achieve unconfoundedness is collected, the true model explaining house prices is sparse relative to the available data, and confounding factors exist that influence both the policy treatment and the outcome. "
   ]
  },
  {
   "cell_type": "markdown",
   "metadata": {},
   "source": [
    "Typically, houses as observational units can be described by many variables due to their nature of comprising many objects with many facettes, and one can think of a lot of observed variables ranging from number of different type of rooms, furnishing and geographical and socioeconomic features of the neighborhood. Which features are important to predict house prices is a crucial question, and even more so in settings with a lot of available features, to perform predictions for houses not in the original sample. In light of the well-known bias-variance trade-off in prediction problems, it might be optimal (in terms of an accuracy metric such as the test mean-squared error (MSE)) to exclude certain variables from the model when predicting housing prices since the increase in bias is (over-)compensated by the decrease in variance. In a setting where prediction (and a minimal MSE) is the goal; we are fine. But if interested in the causal effect of a policy, there is trouble if the excluded variable is a confounding factor, leading to a biased treatment effect estimate since unconfoundedness is violated. This is an unpleasant scenario given all confounders are contained in the dataset $-$ which I assume in this theoretical setting $-$ but we fail to include them. \n",
    "\n",
    "-> solution : double-selection. "
   ]
  },
  {
   "cell_type": "markdown",
   "metadata": {},
   "source": [
    "\n",
    "In fact, to evaluate predictions of a (ML) model, the test mean-squared error (MSE) is a conventional metric which is computed for a test dataset $-$ in ML the standard procedure is to split the original sample into test and training (and validation) datasets, and thus, to train and test models on different data, see e.g. James et al. (2013). The MSE consists of a bias and a variance part which are traded-off in model training. As a result, models built with an algorithm to minimize the MSE may exihibit bias to drive down the variance of predicted values. An effective way to reduce variance (in linear models) is to deploy *regularization* methods, such as Ridge regression or LASSO, that shrink the estimated coefficients towards zero, which reduces the range that predicted values take on for a given observation (James et al., 2013). Due to the L1-penalty, the aforementioned LASSO can shrink coefficients all the way to zero, which in fact, makes LASSO a variable selection method. "
   ]
  },
  {
   "cell_type": "markdown",
   "metadata": {},
   "source": []
  },
  {
   "cell_type": "markdown",
   "metadata": {},
   "source": []
  },
  {
   "cell_type": "code",
   "execution_count": 1,
   "metadata": {},
   "outputs": [],
   "source": [
    "set.seed(1234)"
   ]
  },
  {
   "cell_type": "code",
   "execution_count": 2,
   "metadata": {},
   "outputs": [
    {
     "name": "stderr",
     "output_type": "stream",
     "text": [
      "Loading required package: Matrix\n",
      "\n",
      "Loaded glmnet 4.0\n",
      "\n"
     ]
    }
   ],
   "source": [
    "library(glmnet)\n",
    "library(mvtnorm)\n",
    "library(stringr)\n",
    "library(ggplot2)\n",
    "library(gridExtra)"
   ]
  },
  {
   "cell_type": "code",
   "execution_count": 3,
   "metadata": {},
   "outputs": [],
   "source": [
    "# Default values\n",
    "n_F_attr <- 30\n",
    "n_G_attr <- 30\n",
    "n_H_attr <- 30\n",
    "\n",
    "# Housekeeping of feature names and identifiers for identification.\n",
    "# Create vector with covariate names.\n",
    "colname_F <- str_c(rep(\"F_\", n_F_attr), seq(from=1, to=n_F_attr, by=1))\n",
    "colname_G <- str_c(rep(\"G_\", n_G_attr), seq(from=1, to=n_G_attr, by=1))\n",
    "colname_H <- str_c(rep(\"H_\", n_H_attr), seq(from=1, to=n_H_attr, by=1))\n",
    "\n",
    "colnames_DG <- c(\"D\", colname_G)\n",
    "colnames_GH <- c(colname_G, colname_H)\n",
    "colnumbers_G <- seq(from=1, to=n_G_attr, by=1)\n",
    "colnumbers_GH <- seq(from=1, to=(n_G_attr+n_H_attr), by=1)"
   ]
  },
  {
   "cell_type": "code",
   "execution_count": 4,
   "metadata": {},
   "outputs": [],
   "source": [
    "source(\"C:/Users/Max/Desktop/MASTER/computational_statistics/compstat-project/code/data_generating_process.R\")"
   ]
  },
  {
   "cell_type": "code",
   "execution_count": 5,
   "metadata": {},
   "outputs": [],
   "source": [
    "n <- 400\n",
    "n_F_attr <- 30\n",
    "n_G_attr <- 50\n",
    "n_H_attr <- 30\n",
    "\n",
    "beta_F_size <- .15\n",
    "beta_H_size <- 1\n",
    "beta_GD_size <- 1\n",
    "beta_GY_size <- .5\n",
    "treatment_effect <- .5\n",
    "\n",
    "unconfoundedness_rate <- .25"
   ]
  },
  {
   "cell_type": "code",
   "execution_count": null,
   "metadata": {},
   "outputs": [],
   "source": []
  },
  {
   "cell_type": "code",
   "execution_count": null,
   "metadata": {},
   "outputs": [],
   "source": []
  },
  {
   "cell_type": "markdown",
   "metadata": {},
   "source": [
    "Good:\n",
    "* \n",
    "* \n",
    "\n",
    "Bad:\n",
    "* \n",
    "* \n",
    "\n",
    "Missing:\n",
    "* \n",
    "* "
   ]
  },
  {
   "cell_type": "markdown",
   "metadata": {},
   "source": [
    "<hr>"
   ]
  },
  {
   "cell_type": "code",
   "execution_count": 6,
   "metadata": {},
   "outputs": [],
   "source": [
    "source(\"C:/Users/Max/Desktop/MASTER/computational_statistics/compstat-project/code/variable_selection.R\")\n",
    "source(\"C:/Users/Max/Desktop/MASTER/computational_statistics/compstat-project/code/compute_metrics.R\")\n",
    "source(\"C:/Users/Max/Desktop/MASTER/computational_statistics/compstat-project/code/plot_functions.R\")"
   ]
  },
  {
   "cell_type": "markdown",
   "metadata": {},
   "source": [
    "<a id='section-iv'></a>\n",
    "## 4. Simulation Study"
   ]
  },
  {
   "cell_type": "code",
   "execution_count": null,
   "metadata": {},
   "outputs": [],
   "source": []
  },
  {
   "cell_type": "markdown",
   "metadata": {},
   "source": [
    "What is important?\n",
    "\n",
    "* What is metric of interest? MSE, Bias, Biased estimate of effect of interest ... (prediction vs. identification of causal effect)\n",
    "* MSE decomposition -- show how bias and variance is traded-off against each other and how the reduction in variance can increase precision in terms of MSE. (what about coeff estimates?)\n",
    "* Formulate clear expectations what I expect happens to these metrics when varying a, b, c and give clear intuition\n",
    "* Comment on whether expectations where met. Why? And why not?\n",
    "\n",
    "Perhaps, do sim study in two parts. One with OVB and one without, to highlight Lasso, adaptive lasso and double selection in principle?\n",
    "\n",
    "(Double selection probably higher variance and smaller bias since it picks more variables compared to one-way-lasso? in the absence of OVB).\n",
    "Same with OVB, but: here it is good since it probably reduced OVB."
   ]
  },
  {
   "cell_type": "markdown",
   "metadata": {},
   "source": [
    "### 4.1 Introduction to Simulation Study\n",
    "\n",
    "The simulation study consists of several parts. To keep an overview, this subsection introduces the setup building on the data-generating process(es) from SECTION 3, the rationale behind the metrics evaluated during simulation and the motivation behind choices of parameters which are varied to produce simulation results. In this fashion, the simulation studies the behavior of the confounding bias and other metrics for VARYING DEGREES OF SPARSENESS; DIMENSIONALITY OF THE REGRESSOR MATRIX; ETC.[TODO]. To begin with, there will be a brief walk through the entire process of a *single* simulation, which is later repeated $R$ times, and lastly repeated $R$ times for each value of a parameter vector. \n",
    "\n",
    "The key metrics to be evaluated throughout the simulation study are concerned with the confounding bias, defined as $\\hat{\\alpha}^* - \\alpha^*$, e.g. the treatment effect estimate is said to be upward biased if it is greater than the true value. Biased treatment effect estimates occur if confounding factors are excluded by the LASSO-based selection methods, yielding the number / rate of falsely excluded confounders an important metric. It is here denoted by the false-positive rate where the *positive* state refers to a predictor with zero effect. Similarily, the true-positive rate refers to zero-effect predictors being correctly excluded by the selection method.\n",
    "\n",
    "\n",
    "For the single simuation, obtain a training dataset from DGP1[TODO] described in SECTION3 in its most basic form with i.i.d. controls drawn from the standard normal distribution. Controls predict the treatment quite well while their direct association with the outcome is smaller. Nevertheless, both models describing the treatment and the outcome are sparse while the number of potential controls is large ($p = 100$). To grasp how the LASSO shrinks and selects variables based on their coefficient size, the first stage (regressing the outcome on the entire set of controls) and the second stage (regressing the treatment on the entire set of controls) is conducted for a grid of LASSO penalties. In Figure 4.1 the coefficient for each control variable is plotted against the grid of penalties, and the color green depicts sparse controls whereas red shows true confounders. The grey-green line in the left panel is the coefficient on the treatment effect. As has been discussed in SECTION2, a larger penalty term shrinks coefficients as can be seen when moving from left to right. A larger penalty corresponds to a smaller budget of absolute coefficient sizes available, and due to the $l_1$-norm the LASSO shrinks some coefficients to zero. In fact, for a sufficiently large penalty, the null model is obtained.\n",
    "\n",
    "As each penalty pins down a set of shrunken (and zero) coefficients, we must choose a penalty parameter to obtain a single regressor set which is forwarded to the post-LASSO OLS regression model. Here, $\\lambda$ is chosen through ten-fold cross-validation over the test MSE, which is among the default options for the `glmnet` package. (((Belloni et al. (2014) and [SOURCE] use the penalty parameter advocated by Bickel et al. (2009)[SOURCE], which is pinned down $-$ among other quantities $-$ by the number of observations and predicors. (((In my eyes, cross-validation of the penalty term is a more conservative choice in the settings investigated in this term paper, in the sense that less controls are excluded. However, the theoretical properties of using cross-validated penalty terms seem to be less well established (Belloni et al., 2014).)))<--- quite difficult thingy here)\n",
    "The cross-validated penalty term is portrayed by the dashed line. Variables whose coefficients are set to zero for this value of $\\lambda$ are excluded from the set of controls which are used in the final OLS regression model. For the double-selection method, only controls which are de-selected by both LASSO regressions are not considered."
   ]
  },
  {
   "cell_type": "code",
   "execution_count": 7,
   "metadata": {},
   "outputs": [],
   "source": [
    "set.seed(12345)\n",
    "# Setup\n",
    "n <- 400\n",
    "n_G_attr <- 100\n",
    "treatment_effect <- .25\n",
    "beta_GD_size <- .25\n",
    "beta_GY_size <- .1\n",
    "unconfoundedness_rate <- .9\n",
    "\n",
    "# Update column names for identifying regressors\n",
    "colname_G <- str_c(rep(\"G_\", n_G_attr), seq(from=1, to=n_G_attr, by=1))\n",
    "colnames_DG <- c(\"D\", colname_G)\n",
    "colnumbers_G <- seq(from=1, to=n_G_attr, by=1)\n",
    "\n",
    "# Draw dataset which is then split into training and test\n",
    "data_set <- generate_data(dgp=0,\n",
    "                          n=n,\n",
    "                          n_G_attr=n_G_attr,\n",
    "                          treatment_effect=treatment_effect,\n",
    "                          beta_GD_size=beta_GD_size,\n",
    "                          beta_GY_size=beta_GY_size,\n",
    "                          unconfoundedness_rate=unconfoundedness_rate)\n",
    "\n",
    "data <- data_set$data\n",
    "# Shuffle data before train-test-split to ensure no unintended structure exists\n",
    "# due to the order of observations\n",
    "random_rows <- sample(nrow(data))\n",
    "data <- data[random_rows, ]\n",
    "\n",
    "# Split data into training and test sets of equal size\n",
    "data_train <- data[1:(dim(data)[1]/2), ]\n",
    "data_test <- data[(dim(data)[1]/2+1):dim(data)[1], ]\n",
    "\n",
    "y_train <- data_train$y\n",
    "D_train <- data_train$D\n",
    "G_train <- data_train[colname_G]\n",
    "# Assemble different regressor matrices\n",
    "X_train <- data.matrix(cbind(D_train, G_train))\n",
    "Z_train <- data.matrix(cbind(G_train))\n",
    "\n",
    "# Retrieve true covariate identifier\n",
    "true_covariate_identifier_G <- data_set$true_covariate_identifier\n",
    "names(true_covariate_identifier_G) <- colname_G\n",
    "true_covariate_identifier_G[true_covariate_identifier_G > 0] <- \"n\"\n",
    "true_covariate_identifier_G[true_covariate_identifier_G != \"n\"] <- \"p\"\n",
    "# Change column name to identify sparse covariates\n",
    "colname_G_effect <- str_c(rep(\"G_\", n_G_attr), seq(from=1, to=n_G_attr, by=1), true_covariate_identifier_G)\n",
    "colnames_DG_effect <- c(\"D\", colname_G_effect)"
   ]
  },
  {
   "cell_type": "code",
   "execution_count": 8,
   "metadata": {},
   "outputs": [],
   "source": [
    "# Variable selection in \"first\" and \"second\" stage\n",
    "\n",
    "# Grid of lasso penalties\n",
    "lambda_grid <- seq(0, 1, by=.02)\n",
    "\n",
    "# 1. Use Lasso to shrink/select covariates given their association with outcome Y\n",
    "lasso_one <- glmnet(X_train, y_train, alpha=1, lambda=lambda_grid, intercept=FALSE)\n",
    "\n",
    "# 2. Use Lasso to shrink/select covariates given their association with tratment D\n",
    "lasso_two <- glmnet(Z_train, D_train, alpha=1, lambda=lambda_grid, intercept=FALSE)\n",
    "\n",
    "# Extract estimates from both models\n",
    "beta_hats_lasso_one <- t(matrix(coef(lasso_one, s=lambda_grid)[-1,], nrow=dim(X_train)[2], ncol=length(lambda_grid)))\n",
    "beta_hats_lasso_two <- t(matrix(coef(lasso_two, s=lambda_grid)[-1,], nrow=dim(Z_train)[2], ncol=length(lambda_grid)))\n",
    "\n",
    "\n",
    "# MSE-optimal penalty term for lasso\n",
    "lasso_one_cv <- cv.glmnet(X_train, y_train, alpha=1, intercept=FALSE,\n",
    "                          type.measure=\"mse\", nfolds=10)\n",
    "lambda_min_one <- lasso_one_cv$lambda.min\n",
    "\n",
    "lasso_two_cv <- cv.glmnet(Z_train, D_train, alpha=1, intercept=FALSE,\n",
    "                          type.measure=\"mse\", nfolds=10)\n",
    "lambda_min_two <- lasso_two_cv$lambda.min\n",
    "\n",
    "# 1.\n",
    "df <- data.frame(cbind(beta_hats_lasso_one, lambda_grid))\n",
    "names(df) <- colnames_DG_effect\n",
    "p1 <- lasso_coef_shrink_plot(df=df, lambda_min=lambda_min_one, figure_name=\"Figure 4.1\", title=\"LASSO regression of y on X\")\n",
    "\n",
    "\n",
    "# 2.\n",
    "df <- data.frame(cbind(beta_hats_lasso_two, lambda_grid))\n",
    "names(df) <- colname_G_effect\n",
    "p2 <- lasso_coef_shrink_plot(df=df, lambda_min=lambda_min_two, title=\"LASSO regression of D on X\")"
   ]
  },
  {
   "cell_type": "code",
   "execution_count": 9,
   "metadata": {},
   "outputs": [
    {
     "data": {
      "image/png": "[encoded data removed]",
      "text/plain": [
       "plot without title"
      ]
     },
     "metadata": {
      "image/png": {
       "height": 360,
       "width": 900
      }
     },
     "output_type": "display_data"
    }
   ],
   "source": [
    "options(repr.plot.width=15, repr.plot.height=6)\n",
    "grid.arrange(p1, p2, nrow=1)"
   ]
  },
  {
   "cell_type": "markdown",
   "metadata": {},
   "source": [
    "Recall, that green coefficients belong to sparse controls and setting those to zero is desired. More problematic is the case when LASSO excludes confounders (in red) since their omission in the final OLS regression will introduce confounding bias. One can see in the right panel of Figure 4.1 that LASSO seems to cancel out unrelated predictors first, while related predictors are excluded for higher values of the penalty term. At the test MSE-optimal penalty term (dashed line), it seems from the plot, no true confounders are excluded and some unrelated predictors also survived. In fact, the amount of false-positives is zero[CHECK] in the second stage, whereas it is eight[CHECK] in the first stage (see code block below). From this, we would expect a biased treatment effect estimate if variable selection is based only on the simple post-LASSO OLS regression since true confounders were de-selected. Using the double-selection method where the union of selected variables from the first and second stage is considered in the final regression, would yield a better performance in terms of treatment estimate's bias. Note, that the first stage LASSO model may outperform the model advocated by double-selection since more unrelated regressors are included (see the false-negative rate below). However, with the goal of inference on the treatment effect estimate, double-selection is favored *in this particular simulation run*."
   ]
  },
  {
   "cell_type": "code",
   "execution_count": 11,
   "metadata": {},
   "outputs": [],
   "source": [
    "lasso_coefs_one <- cbind(coef(lasso_one_cv, s=\"lambda.min\")[-1])\n",
    "lasso_coefs_two <- cbind(coef(lasso_two_cv, s=\"lambda.min\")[-1])"
   ]
  },
  {
   "cell_type": "code",
   "execution_count": 12,
   "metadata": {},
   "outputs": [
    {
     "name": "stdout",
     "output_type": "stream",
     "text": [
      "The true-positive count for selection in the first stage using LASSO is 88\n",
      "The false-positive count is 10\n",
      "The true-positive count for selection in the second stage using LASSO is 77\n",
      "The false-positive count is 0\n",
      "\n",
      "TN-one is 0 and FN-one is 2\n",
      "TN-two is 10 and FN-two is 13"
     ]
    }
   ],
   "source": [
    "true_covariate_identifier_G <- data_set$true_covariate_identifier\n",
    "true_covariate_identifier_G[is.na(true_covariate_identifier_G)] <- 0\n",
    "\n",
    "tp_count_one <- sum((true_covariate_identifier_G == 0) & (lasso_coefs_one[2:length(lasso_coefs_one)] == 0))\n",
    "tn_count_one <- sum((true_covariate_identifier_G != 0) & (lasso_coefs_one[2:length(lasso_coefs_one)] != 0))\n",
    "fp_count_one <- sum((true_covariate_identifier_G != 0) & (lasso_coefs_one[2:length(lasso_coefs_one)] == 0))\n",
    "fn_count_one <- sum((true_covariate_identifier_G == 0) & (lasso_coefs_one[2:length(lasso_coefs_one)] != 0))\n",
    "\n",
    "tp_count_two <- sum((true_covariate_identifier_G == 0) & (lasso_coefs_two == 0))\n",
    "tn_count_two <- sum((true_covariate_identifier_G != 0) & (lasso_coefs_two != 0))\n",
    "fp_count_two <- sum((true_covariate_identifier_G != 0) & (lasso_coefs_two == 0))\n",
    "fn_count_two <- sum((true_covariate_identifier_G == 0) & (lasso_coefs_two != 0))\n",
    "cat(\"The true-positive count for selection in the first stage using LASSO is\", tp_count_one)\n",
    "cat(\"\\nThe false-positive count is\", fp_count_one)\n",
    "cat(\"\\nThe true-positive count for selection in the second stage using LASSO is\", tp_count_two)\n",
    "cat(\"\\nThe false-positive count is\", fp_count_two)\n",
    "\n",
    "cat(\"\\n\")\n",
    "cat(\"\\nTN-one is\", tn_count_one, \"and FN-one is\", fn_count_one)\n",
    "cat(\"\\nTN-two is\", tn_count_two, \"and FN-two is\", fn_count_two)"
   ]
  },
  {
   "cell_type": "markdown",
   "metadata": {},
   "source": [
    "<br>\n",
    "\n",
    "**Post-(double-)LASSO OLS regression**\n",
    "\n",
    "Treatment effect estimation in this setting occurs in the third step where an OLS regression of the outcome on the treatment and the double-selected set of controls is performed. To finish the walk-through of a single simulation run, this last step is now done below. We use the same data which was used to draw the LASSO shrinkage plots in Figure 4.1 and for which the false-positive selection is known. Recall, that for the simple post-LASSO OLS regression a biased treatmente effect estimate is expected since we confounding factors were dropped during the MSE-optimal LASSO procedure. For the double post-LASSO OLS estimate of the treatment effect, the bias is expected to be non-existent. The bias is computed from running \n",
    "\n",
    "(3.1) $y_{i} = D_{i} \\alpha^* + \\bar{X^1_{i}} \\beta + v_{i}$\n",
    "\n",
    "for the simple selection method and\n",
    "\n",
    "(3.2) $y_{i} = D_{i} \\alpha^* + \\bar{X_{i}} \\beta + v_{i}$\n",
    "\n",
    "for the double-selection method on the test dataset, where $\\bar{X_{i}}$ is the double-selected covariate vector, and $\\bar{X^1_{i}}$ holds covariates selected by simple LASSO for unit $i = 1, ..., n$."
   ]
  },
  {
   "cell_type": "code",
   "execution_count": 13,
   "metadata": {},
   "outputs": [],
   "source": [
    "# Create vector indicating which controls are selected\n",
    "# Simple LASSO (stage one only)\n",
    "\n",
    "lasso_coefs_simple <- lasso_coefs_one[2:dim(X_train)[2], ]  # Exclude coef. of treatment since we are interested in selecting covariates\n",
    "selected_covars_one <- rbind(seq(from=1, to=length(lasso_coefs_simple), by=1))\n",
    "names(selected_covars_one) <- colname_G\n",
    "# Keep indicators of selected covariates.\n",
    "selected_covars_one[lasso_coefs_simple==0] <- NaN\n",
    "simple_selected_identifier <- selected_covars_one\n",
    "\n",
    "# Double-selection LASSO (stage one and two)\n",
    "\n",
    "selected_covars_two <- rbind(seq(from=1, to=length(lasso_coefs_two), by=1))\n",
    "names(selected_covars_two) <- colname_G\n",
    "# Keep indicators of selected covariates.\n",
    "selected_covars_two[lasso_coefs_two==0] <- NaN\n",
    "\n",
    "# Exclude covariates only if both lasso_one and lasso_two suggest it\n",
    "double_selected_identifier <- rbind(selected_covars_one,\n",
    "                                    selected_covars_two,\n",
    "                                    colnumbers_G)\n",
    "\n",
    "double_selected_identifier[3, colSums(is.na(double_selected_identifier)) == 2] <- NaN\n",
    "double_selected_identifier <- double_selected_identifier[3, ]"
   ]
  },
  {
   "cell_type": "code",
   "execution_count": 14,
   "metadata": {},
   "outputs": [],
   "source": [
    "# Consult test data for metrics\n",
    "y_test <- data_test$y\n",
    "D_test <- data_test$D\n",
    "G_test <- data_test[colname_G]\n",
    "\n",
    "# Simple selection\n",
    "Z_test <- data.matrix(G_test)\n",
    "Z_test_selected_simple <- Z_test[, selected_covars_one[!is.na(selected_covars_one)]]\n",
    "X_test_selected_simple <- data.matrix(cbind(D_test, Z_test_selected_simple))\n",
    "# Double-selection\n",
    "Z_test_selected_double <- Z_test[, double_selected_identifier[!is.na(double_selected_identifier)]]\n",
    "X_test_selected_double <- data.matrix(cbind(D_test, Z_test_selected_double))"
   ]
  },
  {
   "cell_type": "code",
   "execution_count": 15,
   "metadata": {},
   "outputs": [
    {
     "name": "stdout",
     "output_type": "stream",
     "text": [
      "Treatment effect estimate bias for SIMPLE selection is 0.1697"
     ]
    }
   ],
   "source": [
    "# Estimate treatment effect by OLS provided with SIMPLE selected covariates\n",
    "lm_result <- lm(y_test ~ X_test_selected_simple)\n",
    "# Collect metrics of interest\n",
    "confounder_bias <- lm_result$coefficients[2] - treatment_effect\n",
    "\n",
    "cat(\"Treatment effect estimate bias for SIMPLE selection is\", round(confounder_bias, 4))"
   ]
  },
  {
   "cell_type": "code",
   "execution_count": 16,
   "metadata": {},
   "outputs": [
    {
     "name": "stdout",
     "output_type": "stream",
     "text": [
      "Treatment effect estimate bias for DOUBLE selection is 0.0357"
     ]
    }
   ],
   "source": [
    "# Estimate treatment effect by OLS provided with DOUBLE selected covariates\n",
    "lm_result <- lm(y_test ~ X_test_selected_double)\n",
    "# Collect metrics of interest\n",
    "confounder_bias <- lm_result$coefficients[2] - treatment_effect\n",
    "\n",
    "cat(\"Treatment effect estimate bias for DOUBLE selection is\", round(confounder_bias, 4))"
   ]
  },
  {
   "cell_type": "markdown",
   "metadata": {},
   "source": [
    "As was expected, the OLS estimator of the treatment effect is biased when controls from the simple LASSO selection method are taken. This is because of uncontrolled confounders which affect both the treatment and the outcome. The double-selection method proved to be more successful in detecting important controls, and therefore the treatment effect estimate is neglectable. Note, that the estimate of simple post-LASSO OLS is upward biased, which is no surprise given that the estimate picks up the positive impact from the left-out confounders on the outcome. This can also be seen in the left panel of Figure 4.1 where the treatment effect estimate rises above its true value of .25 as it picks up the positive effect of confounding factors which are shrunken and excluded for increasing values of the LASSO penalty term. However, at some point the opposing force of LASSO shrinkage dominates the bias and the treatment effect coefficient decreases to zero."
   ]
  },
  {
   "cell_type": "markdown",
   "metadata": {},
   "source": [
    "### 4.2 ---\n",
    "\n",
    "After the walk through of a single simulation, this subsection is concerned with driving down the role chance plays in the computations of metrics by consulting $R$ simulation runs. From now on, all metrics are computed over $R$ simulation runs. Due to computational constraints the number of simulation runs depends on the specific simulation study and ranges from 20[CHECK] to 300[CHEKC]. The brief list below shows the most important metrics consulted during the simulation studies:\n",
    "\n",
    "* Domain of (causal) inference\n",
    "    * Median confounder bias\n",
    "    * Root-mean-squared error of confounder bias\n",
    "    * Mean and median of false-positive, TP, FN, TN rates\n",
    "    * ((Rejection rates of H0: \\alpha^* = 0, should be 95%??))\n",
    "\n",
    "\n",
    "* Domain of prediction\n",
    "    * Mean test MSE\n",
    "    \n",
    "\n",
    "First, a handful of distinct scenarios are considered to foster intuition, see SECTION4.2. Later in SECTION4.3, for given scenarios, some parameters will be *continuously* varied, i.e. discretely over a fine grid."
   ]
  },
  {
   "cell_type": "markdown",
   "metadata": {},
   "source": [
    "**Scenario 1** Data are generated according to DGP1[CHECK], the direct association between confounders and the outcome is low, whereas it is high between confounders and the treatment.\n",
    "\n",
    "**Short description** #sparse, #high-dimensions, #controls-treatment-association-high, #controls-outcome-association-low\n",
    "\n",
    "**Expectation** #biased-estimate-for-single #unbiased-estimate-for-double\n",
    "\n",
    "Here, I expect that the simple selection method will exclude too many confounding factors because the direct association $-$in form of the coefficient sizes$-$ between the controls and the outcome is rather small. Consequently, the treatment effect estimate is biased. However, since the OVB is naturally smaller if the association between omitted confounders and the outcome is small. \n",
    "Conversely, since the association between controls and the treatment is high, the double-selection procedure is expected to detect relevant controls to be included in the final OLS regression model. This should leave its mark on the true-positive and false-positive rate, both being closely tight to the true rates. Due to the correct selection, the treatment effect bias is expected to be small, and its distribution centered around zero."
   ]
  },
  {
   "cell_type": "code",
   "execution_count": 17,
   "metadata": {},
   "outputs": [],
   "source": [
    "selection_method <- \"simple\"\n",
    "\n",
    "R <- 50\n",
    "n <- 400\n",
    "n_G_attr <- 100\n",
    "treatment_effect <- .25\n",
    "beta_GD_size <- .25\n",
    "beta_GY_size <- .1\n",
    "unconfoundedness_rate <- .9\n",
    "\n",
    "# Update column names for identifying regressors\n",
    "colname_G <- str_c(rep(\"G_\", n_G_attr), seq(from=1, to=n_G_attr, by=1))\n",
    "colnames_DG <- c(\"D\", colname_G)\n",
    "colnumbers_G <- seq(from=1, to=n_G_attr, by=1)\n",
    "\n",
    "sim_results_vec <- replicate(R, compute_metrics(n=n,\n",
    "                                     n_G_attr=n_G_attr,\n",
    "                                     beta_GD_size=beta_GD_size,\n",
    "                                     beta_GY_size=beta_GY_size,\n",
    "                                     treatment_effect=treatment_effect,\n",
    "                                     unconfoundedness_rate=unconfoundedness_rate,\n",
    "                                     selection_method=selection_method))\n",
    "\n",
    "confounder_bias_vec_simple <- unlist(sim_results_vec[1, 1:R])\n",
    "tp_selection_rate_G_simple <- unlist(sim_results_vec[3, 1:R])\n",
    "fp_selection_rate_G_simple <- unlist(sim_results_vec[5, 1:R])"
   ]
  },
  {
   "cell_type": "code",
   "execution_count": 18,
   "metadata": {},
   "outputs": [
    {
     "name": "stdout",
     "output_type": "stream",
     "text": [
      "Median confounder bias is 0.161206\n",
      "Mean of true positive 'predictions' is 89.82\n",
      "Mean of false positive 'predictions' is 9.86"
     ]
    }
   ],
   "source": [
    "cat(\"Median confounder bias is\", median(confounder_bias_vec_simple))\n",
    "cat(\"\\nMean of true positive 'predictions' is\", mean(tp_selection_rate_G_simple))\n",
    "cat(\"\\nMean of false positive 'predictions' is\", mean(fp_selection_rate_G_simple))\n",
    "\n",
    "df <- data.frame(confounder_bias_vec_simple)\n",
    "hist_simple <- ggplot(data=df, aes_string(x=\"confounder_bias_vec_simple\")) +\n",
    "                geom_histogram(aes(y=..density..), binwidth=.04, colour=\"blue\", fill=\"white\") +\n",
    "                geom_density(alpha=.2, fill=\"#FF6666\") +\n",
    "                ggtitle(str_c(selection_method,\"-selection\"), subtitle=\"\") +\n",
    "                xlim(c(-.4, .4)) +\n",
    "                ylim(c(0, 10))"
   ]
  },
  {
   "cell_type": "code",
   "execution_count": 19,
   "metadata": {},
   "outputs": [],
   "source": [
    "selection_method <- \"double\"\n",
    "sim_results_vec <- replicate(R, compute_metrics(n=n,\n",
    "                                     n_G_attr=n_G_attr,\n",
    "                                     beta_GD_size=beta_GD_size,\n",
    "                                     beta_GY_size=beta_GY_size,\n",
    "                                     treatment_effect=treatment_effect,\n",
    "                                     unconfoundedness_rate=unconfoundedness_rate,\n",
    "                                     selection_method=selection_method))\n",
    "\n",
    "confounder_bias_vec_double <- unlist(sim_results_vec[1, 1:R])\n",
    "tp_selection_rate_G_double <- unlist(sim_results_vec[3, 1:R])\n",
    "fp_selection_rate_G_double <- unlist(sim_results_vec[5, 1:R])"
   ]
  },
  {
   "cell_type": "code",
   "execution_count": 20,
   "metadata": {},
   "outputs": [
    {
     "name": "stdout",
     "output_type": "stream",
     "text": [
      "Median confounder bias is 0.06382382\n",
      "Mean of true positive 'predictions' is 85.6\n",
      "Mean of false positive 'predictions' is 2.46"
     ]
    }
   ],
   "source": [
    "cat(\"Median confounder bias is\", median(confounder_bias_vec_double))\n",
    "cat(\"\\nMean of true positive 'predictions' is\", mean(tp_selection_rate_G_double))\n",
    "cat(\"\\nMean of false positive 'predictions' is\", mean(fp_selection_rate_G_double))\n",
    "\n",
    "df <- data.frame(confounder_bias_vec_double)\n",
    "hist_double <- ggplot(data=df, aes_string(x=\"confounder_bias_vec_double\")) +\n",
    "                geom_histogram(aes(y=..density..), binwidth=.04, colour=\"blue\", fill=\"white\") +\n",
    "                geom_density(alpha=.2, fill=\"#FF6666\") +\n",
    "                ggtitle(str_c(selection_method,\"-selection\"), subtitle=\"\") +\n",
    "                xlim(c(-.4, .4)) +\n",
    "                ylim(c(0, 10))"
   ]
  },
  {
   "cell_type": "code",
   "execution_count": 21,
   "metadata": {},
   "outputs": [
    {
     "name": "stderr",
     "output_type": "stream",
     "text": [
      "Warning message:\n",
      "\"Removed 2 rows containing missing values (geom_bar).\"\n",
      "Warning message:\n",
      "\"Removed 2 rows containing missing values (geom_bar).\"\n"
     ]
    },
    {
     "data": {
      "image/png": "[encoded data removed]",
      "text/plain": [
       "plot without title"
      ]
     },
     "metadata": {
      "image/png": {
       "height": 360,
       "width": 900
      }
     },
     "output_type": "display_data"
    }
   ],
   "source": [
    "options(repr.plot.width=15, repr.plot.height=6)\n",
    "grid.arrange(hist_simple, hist_double, nrow=1)"
   ]
  },
  {
   "cell_type": "markdown",
   "metadata": {},
   "source": [
    "<- could also go into the appendix"
   ]
  },
  {
   "cell_type": "markdown",
   "metadata": {},
   "source": []
  },
  {
   "cell_type": "markdown",
   "metadata": {},
   "source": []
  },
  {
   "cell_type": "markdown",
   "metadata": {},
   "source": [
    "### 4.3 ---"
   ]
  },
  {
   "cell_type": "markdown",
   "metadata": {},
   "source": []
  },
  {
   "cell_type": "code",
   "execution_count": 22,
   "metadata": {},
   "outputs": [],
   "source": [
    "source(\"C:/Users/Max/Desktop/MASTER/computational_statistics/compstat-project/code/simulation_function.R\")"
   ]
  },
  {
   "cell_type": "code",
   "execution_count": 23,
   "metadata": {},
   "outputs": [],
   "source": [
    "# Setup : DGP 0\n",
    "R <- 20\n",
    "\n",
    "n <- 400\n",
    "n_G_attr <- 100\n",
    "treatment_effect <- .25\n",
    "beta_GD_size <- .25\n",
    "beta_GY_size <- .1\n",
    "unconfoundedness_rate <- .9\n",
    "\n",
    "# Housekeeping of feature names and identifiers for identification.\n",
    "colname_G <- str_c(rep(\"G_\", n_G_attr), seq(from=1, to=n_G_attr, by=1))\n",
    "colnames_DG <- c(\"D\", colname_G)\n",
    "colnumbers_G <- seq(from=1, to=n_G_attr, by=1)"
   ]
  },
  {
   "cell_type": "code",
   "execution_count": 24,
   "metadata": {},
   "outputs": [
    {
     "name": "stdout",
     "output_type": "stream",
     "text": [
      "SIMULATION STARTED: vary over beta_GY_size with 20 repititions for each value ... this takes approximately 105.77 seconds."
     ]
    }
   ],
   "source": [
    "# Simulation\n",
    "iter_over <- \"beta_GY_size\"\n",
    "sim_parameter_vec <- seq(from=0, to=.5, by=.025)\n",
    "\n",
    "selection_method <- \"simple\"\n",
    "\n",
    "# Collect simulation results\n",
    "simulation_results <- simulation_wrapper(R=R, iter_over=iter_over,\n",
    "                              sim_parameter_vec=sim_parameter_vec,\n",
    "                              selection_method=selection_method,\n",
    "                              n=n, n_F_attr=n_F_attr,\n",
    "                              n_G_attr=n_G_attr, n_H_attr=n_H_attr,\n",
    "                              treatment_effect=treatment_effect,\n",
    "                              beta_GD_size=beta_GD_size,\n",
    "                              beta_GY_size=beta_GY_size,\n",
    "                              beta_F_size=beta_F_size,\n",
    "                              unconfoundedness_rate=unconfoundedness_rate)\n",
    "\n",
    "mean_squared_bias_simple <- simulation_results$mean_squared_bias_vec\n",
    "mean_abs_dev_bias_simple <- simulation_results$mean_abs_dev_bias_vec\n",
    "median_bias_simple <- simulation_results$median_bias_vec\n",
    "tp_selection_rate_G_simple <- simulation_results$tp_selection_rate_G_vec\n",
    "tn_selection_rate_G_simple <- simulation_results$tn_selection_rate_G_vec\n",
    "fp_selection_rate_G_simple <- simulation_results$fp_selection_rate_G_vec\n",
    "fn_selection_rate_G_simple <- simulation_results$fn_selection_rate_G_vec"
   ]
  },
  {
   "cell_type": "code",
   "execution_count": 25,
   "metadata": {},
   "outputs": [
    {
     "name": "stdout",
     "output_type": "stream",
     "text": [
      "SIMULATION STARTED: vary over beta_GY_size with 20 repititions for each value ... this takes approximately 172.51 seconds."
     ]
    }
   ],
   "source": [
    "# Simulation\n",
    "selection_method <- \"double\"\n",
    "\n",
    "# Collect simulation results\n",
    "simulation_results <- simulation_wrapper(R=R, iter_over=iter_over,\n",
    "                              sim_parameter_vec=sim_parameter_vec,\n",
    "                              selection_method=selection_method,\n",
    "                              n=n, n_F_attr=n_F_attr,\n",
    "                              n_G_attr=n_G_attr, n_H_attr=n_H_attr,\n",
    "                              treatment_effect=treatment_effect,\n",
    "                              beta_GD_size=beta_GD_size,\n",
    "                              beta_GY_size=beta_GY_size,\n",
    "                              beta_F_size=beta_F_size,\n",
    "                              unconfoundedness_rate=unconfoundedness_rate)\n",
    "\n",
    "mean_squared_bias_double <- simulation_results$mean_squared_bias_vec\n",
    "mean_abs_dev_bias_double <- simulation_results$mean_abs_dev_bias_vec\n",
    "median_bias_double <- simulation_results$median_bias_vec\n",
    "tp_selection_rate_G_double <- simulation_results$tp_selection_rate_G_vec\n",
    "tn_selection_rate_G_double <- simulation_results$tn_selection_rate_G_vec\n",
    "fp_selection_rate_G_double <- simulation_results$fp_selection_rate_G_vec\n",
    "fn_selection_rate_G_double <- simulation_results$fn_selection_rate_G_vec"
   ]
  },
  {
   "cell_type": "code",
   "execution_count": 26,
   "metadata": {},
   "outputs": [],
   "source": [
    "# Visualization -- SIMPLE selection\n",
    "x_axis <- sim_parameter_vec\n",
    "# Metrics --- variable selection\n",
    "df <- data.frame(cbind(x_axis,\n",
    "                       tp_selection_rate_G_simple, tn_selection_rate_G_simple,\n",
    "                       fp_selection_rate_G_simple, fn_selection_rate_G_simple))\n",
    "# Plot\n",
    "plot <- ggplot(data=df, aes(x=x_axis))\n",
    "p_variable_select_simple <- plot +\n",
    "        geom_line(aes_string(y=\"tp_selection_rate_G_simple\"), size=1, col=\"blue\", alpha=.9) +\n",
    "        geom_line(aes_string(y=\"tn_selection_rate_G_simple\"), size=1, col=\"blue\", alpha=.5) +\n",
    "        geom_line(aes_string(y=\"fp_selection_rate_G_simple\"), size=1, col=\"red\", alpha=.9) +\n",
    "        geom_line(aes_string(y=\"fn_selection_rate_G_simple\"), size=1, col=\"red\", alpha=.5) +\n",
    "        geom_line(aes(y=0), lty=\"dashed\") +\n",
    "        ggtitle(\"TP, TN, FP, FN rates\", subtitle=\"Simple LASSO\") +\n",
    "        ylab(\"\") +\n",
    "        xlab(iter_over)\n",
    "\n",
    "# Metrics --- confounder bias\n",
    "df <- data.frame(cbind(x_axis, mean_squared_bias_simple, mean_abs_dev_bias_simple, median_bias_simple))\n",
    "# Plot\n",
    "plot <- ggplot(data=df, aes(x=x_axis))\n",
    "p_confounder_bias_simple <- plot +\n",
    "        geom_line(aes_string(y=\"mean_squared_bias_simple\"), size=1, col=\"red\", alpha=1) +\n",
    "        geom_line(aes_string(y=\"mean_abs_dev_bias_simple\"), size=1, col=\"#575757\", alpha=.6) +\n",
    "        geom_line(aes_string(y=\"median_bias_simple\"), size=1, col=\"#575757\", alpha=1) +\n",
    "        geom_line(aes(y=0), lty=\"dashed\") +\n",
    "        ylim(c(-.1, .3)) +\n",
    "        ggtitle(\"Bias of Treatment Coefficient\", subtitle=\"Simple LASSO\") +\n",
    "        ylab(\"\") +\n",
    "        xlab(iter_over)"
   ]
  },
  {
   "cell_type": "code",
   "execution_count": 27,
   "metadata": {},
   "outputs": [],
   "source": [
    "# Visualization -- DOUBLE selection\n",
    "x_axis <- sim_parameter_vec\n",
    "# Metrics --- variable selection\n",
    "df <- data.frame(cbind(x_axis,\n",
    "                       tp_selection_rate_G_double, tn_selection_rate_G_double,\n",
    "                       fp_selection_rate_G_double, fn_selection_rate_G_double))\n",
    "\n",
    "# Plot\n",
    "plot <- ggplot(data=df, aes(x=x_axis))\n",
    "p_variable_select_double <- plot +\n",
    "        geom_line(aes_string(y=\"tp_selection_rate_G_double\"), size=1, col=\"blue\", alpha=.9) +\n",
    "        geom_line(aes_string(y=\"tn_selection_rate_G_double\"), size=1, col=\"blue\", alpha=.5) +\n",
    "        geom_line(aes_string(y=\"fp_selection_rate_G_double\"), size=1, col=\"red\", alpha=.9) +\n",
    "        geom_line(aes_string(y=\"fn_selection_rate_G_double\"), size=1, col=\"red\", alpha=.5) +\n",
    "        geom_line(aes(y=0), lty=\"dashed\") +\n",
    "        ggtitle(\"TP, TN, FP, FN rates\", subtitle=\"Double LASSO\") +\n",
    "        ylab(\"\") +\n",
    "        xlab(iter_over)\n",
    "\n",
    "# Metrics --- confounder bias\n",
    "df <- data.frame(cbind(x_axis, mean_squared_bias_double, mean_abs_dev_bias_double, median_bias_double))\n",
    "# Plot\n",
    "plot <- ggplot(data=df, aes(x=x_axis))\n",
    "p_confounder_bias_double <- plot +\n",
    "        geom_line(aes_string(y=\"mean_squared_bias_double\"), size=1, col=\"red\", alpha=1) +\n",
    "        geom_line(aes_string(y=\"mean_abs_dev_bias_double\"), size=1, col=\"#575757\", alpha=.6) +\n",
    "        geom_line(aes_string(y=\"median_bias_double\"), size=1, col=\"#575757\", alpha=1) +\n",
    "        geom_line(aes(y=0), lty=\"dashed\") +\n",
    "        ylim(c(-.1, .3)) +\n",
    "        ggtitle(\"Bias of Treatment Coefficient\", subtitle=\"Double LASSO\") +\n",
    "        ylab(\"\") +\n",
    "        xlab(iter_over)"
   ]
  },
  {
   "cell_type": "code",
   "execution_count": 28,
   "metadata": {},
   "outputs": [],
   "source": [
    "options(repr.plot.width=15, repr.plot.height=6)"
   ]
  },
  {
   "cell_type": "code",
   "execution_count": 29,
   "metadata": {},
   "outputs": [
    {
     "data": {
      "image/png": "[encoded data removed]",
      "text/plain": [
       "plot without title"
      ]
     },
     "metadata": {
      "image/png": {
       "height": 360,
       "width": 900
      }
     },
     "output_type": "display_data"
    }
   ],
   "source": [
    "grid.arrange(p_variable_select_simple, p_variable_select_double, nrow=1)"
   ]
  },
  {
   "cell_type": "code",
   "execution_count": 30,
   "metadata": {},
   "outputs": [
    {
     "data": {
      "image/png": "[encoded data removed]",
      "text/plain": [
       "plot without title"
      ]
     },
     "metadata": {
      "image/png": {
       "height": 360,
       "width": 900
      }
     },
     "output_type": "display_data"
    }
   ],
   "source": [
    "grid.arrange(p_confounder_bias_simple, p_confounder_bias_double, nrow=1)"
   ]
  },
  {
   "cell_type": "code",
   "execution_count": null,
   "metadata": {},
   "outputs": [],
   "source": []
  },
  {
   "cell_type": "code",
   "execution_count": null,
   "metadata": {},
   "outputs": [],
   "source": []
  },
  {
   "cell_type": "code",
   "execution_count": null,
   "metadata": {},
   "outputs": [],
   "source": []
  },
  {
   "cell_type": "code",
   "execution_count": null,
   "metadata": {},
   "outputs": [],
   "source": []
  },
  {
   "cell_type": "code",
   "execution_count": null,
   "metadata": {},
   "outputs": [],
   "source": []
  },
  {
   "cell_type": "code",
   "execution_count": null,
   "metadata": {},
   "outputs": [],
   "source": []
  },
  {
   "cell_type": "markdown",
   "metadata": {},
   "source": [
    "Good:\n",
    "* \n",
    "* \n",
    "\n",
    "Bad:\n",
    "* Make a table with TP FP etc rates?\n",
    "* \n",
    "\n",
    "TODO:: \n",
    "\n",
    "\n",
    "Give some general remarks why everything is driven down and only D survives...\n",
    "\n",
    "Not so easy statements though...\n",
    "\n",
    "Given that the indirect effect of the confounders onto the outcome ($G -> D -> Y$) goes only through the treatment, the biased treatment coefficient captures all explanatory power for all information passing through $D$. Hence, under the goal of prediction there is a rationale for cancelling out other controls since they do not add additional information.\n",
    "\n",
    "\n",
    "Missing:\n",
    "* \n",
    "* "
   ]
  },
  {
   "cell_type": "markdown",
   "metadata": {},
   "source": [
    "<a id='conclusion'></a>\n",
    "\n",
    "## 5. Concluding Remarks"
   ]
  },
  {
   "cell_type": "markdown",
   "metadata": {},
   "source": []
  },
  {
   "cell_type": "markdown",
   "metadata": {},
   "source": []
  },
  {
   "cell_type": "markdown",
   "metadata": {},
   "source": []
  },
  {
   "cell_type": "markdown",
   "metadata": {},
   "source": [
    "Good:\n",
    "* \n",
    "* \n",
    "\n",
    "Bad:\n",
    "* \n",
    "* \n",
    "\n",
    "Missing:\n",
    "* \n",
    "* "
   ]
  },
  {
   "cell_type": "markdown",
   "metadata": {},
   "source": [
    "<a id='references'></a>\n",
    "### References"
   ]
  },
  {
   "cell_type": "markdown",
   "metadata": {},
   "source": [
    "Athey, Susan, and Guido W. Imbens. 2017. \"The State of Applied Econometrics: Causality and Policy Evaluation.\" Journal of Economic Perspectives, 31 (2): 3-32.\n",
    "\n"
   ]
  },
  {
   "cell_type": "markdown",
   "metadata": {},
   "source": [
    "Alexandre Belloni, Victor Chernozhukov, Christian Hansen, Inference on Treatment Effects after Selection among High-Dimensional Controls, The Review of Economic Studies, Volume 81, Issue 2, April 2014, Pages 608–650"
   ]
  },
  {
   "cell_type": "markdown",
   "metadata": {},
   "source": [
    "Belloni, Alexandre; Chernozhukov, Victor. Least squares after model selection in high-dimensional sparse models. Bernoulli 19 (2013), no. 2, 521--547"
   ]
  },
  {
   "cell_type": "markdown",
   "metadata": {},
   "source": [
    "Gareth James, Daniela Witten, Trevor Hastie, Robert Tibshirani. An Introduction to Statistical Learning: with Applications in R. New York :Springer, 2013."
   ]
  },
  {
   "cell_type": "markdown",
   "metadata": {},
   "source": [
    "Thomas K. Bauer, Sebastian T. Braun, Michael Kvasnicka, Nuclear power plant closures and local housing values: Evidence from Fukushima and the German housing market, Journal of Urban Economics, Volume 99, 2017, Pages 94-106"
   ]
  },
  {
   "cell_type": "markdown",
   "metadata": {},
   "source": [
    "Stephen Gibbons, Gone with the wind: Valuing the visual impacts of wind turbines through house prices, Journal of Environmental Economics and Management, Volume 72, 2015, Pages 177-196"
   ]
  },
  {
   "cell_type": "markdown",
   "metadata": {},
   "source": [
    "Frondel, M., G. Kussel, S. Sommer, and C. Vance. 2019a. “Local Cost for Global Benefit: The Case of Wind Turbines.” Ruhr Economic Papers 791"
   ]
  },
  {
   "cell_type": "markdown",
   "metadata": {},
   "source": [
    "Stephen Gibbons, Stephen Machin, Valuing school quality, better transport, and lower crime: evidence from house prices, Oxford Review of Economic Policy, Volume 24, Issue 1, spring 2008, Pages 99–119"
   ]
  },
  {
   "cell_type": "markdown",
   "metadata": {},
   "source": [
    "Tibshirani, R. (1996), Regression Shrinkage and Selection Via the Lasso. Journal of the Royal Statistical Society: Series B (Methodological), 58: 267-288"
   ]
  },
  {
   "cell_type": "markdown",
   "metadata": {},
   "source": []
  },
  {
   "cell_type": "markdown",
   "metadata": {},
   "source": []
  },
  {
   "cell_type": "markdown",
   "metadata": {},
   "source": []
  },
  {
   "cell_type": "markdown",
   "metadata": {},
   "source": [
    "<a id='appendix'></a>\n",
    "### Appendix"
   ]
  },
  {
   "cell_type": "markdown",
   "metadata": {},
   "source": []
  },
  {
   "cell_type": "markdown",
   "metadata": {},
   "source": []
  },
  {
   "cell_type": "markdown",
   "metadata": {},
   "source": []
  },
  {
   "cell_type": "markdown",
   "metadata": {},
   "source": []
  }
 ],
 "metadata": {
  "kernelspec": {
   "display_name": "R",
   "language": "R",
   "name": "ir"
  },
  "language_info": {
   "codemirror_mode": "r",
   "file_extension": ".r",
   "mimetype": "text/x-r-source",
   "name": "R",
   "pygments_lexer": "r",
   "version": "3.6.3"
  },
  "varInspector": {
   "cols": {
    "lenName": 16,
    "lenType": 16,
    "lenVar": 40
   },
   "kernels_config": {
    "python": {
     "delete_cmd_postfix": "",
     "delete_cmd_prefix": "del ",
     "library": "var_list.py",
     "varRefreshCmd": "print(var_dic_list())"
    },
    "r": {
     "delete_cmd_postfix": ") ",
     "delete_cmd_prefix": "rm(",
     "library": "var_list.r",
     "varRefreshCmd": "cat(var_dic_list()) "
    }
   },
   "types_to_exclude": [
    "module",
    "function",
    "builtin_function_or_method",
    "instance",
    "_Feature"
   ],
   "window_display": false
  }
 },
 "nbformat": 4,
 "nbformat_minor": 4
}
